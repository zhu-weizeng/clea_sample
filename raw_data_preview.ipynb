{
 "cells": [
  {
   "cell_type": "code",
   "execution_count": 1,
   "metadata": {},
   "outputs": [],
   "source": [
    "# %%cmd\n",
    "# pip install flask pandas numpy matplotlib scikit-learn jieba zhconv"
   ]
  },
  {
   "cell_type": "code",
   "execution_count": 2,
   "metadata": {},
   "outputs": [],
   "source": [
    "# %%cmd\n",
    "# pip list"
   ]
  },
  {
   "cell_type": "markdown",
   "metadata": {},
   "source": [
    "# 基于朴素贝叶斯的中文文本情感分析"
   ]
  },
  {
   "cell_type": "markdown",
   "metadata": {},
   "source": [
    "## python 库版本\n",
    "list\n",
    "|   Package    | Version |\n",
    "| :----------: | :-----: |\n",
    "|    Flask     |  2.0.2  |\n",
    "|    jieba     | 0.42.1  |\n",
    "|  matplotlib  |  3.4.3  |\n",
    "|    numpy     | 1.21.4  |\n",
    "|    pandas    |  1.3.4  |\n",
    "| scikit-learn |  1.0.1  |\n",
    "|    scipy     |  1.7.2  |"
   ]
  },
  {
   "cell_type": "markdown",
   "metadata": {},
   "source": [
    "## 文本处理\n",
    "1. 去除停用词，标点符号等\n",
    "2. 文章参考 https://zhuanlan.zhihu.com/p/39437488\n",
    "3. 字段含义 https://github.com/SophonPlus/ChineseNlpCorpus/blob/master/datasets/simplifyweibo_4_moods/intro.ipynb\n",
    "\n",
    "| 字段   | 说明                           |\n",
    "| :----- | :----------------------------- |\n",
    "| label  | 0 喜悦，1 愤怒，2 厌恶，3 低落 |\n",
    "| review | 微博内容                       |"
   ]
  },
  {
   "cell_type": "code",
   "execution_count": 3,
   "metadata": {},
   "outputs": [],
   "source": [
    "import pandas as pd\n",
    "import jieba\n",
    "import zhconv"
   ]
  },
  {
   "cell_type": "code",
   "execution_count": 4,
   "metadata": {},
   "outputs": [
    {
     "data": {
      "text/html": [
       "<div>\n",
       "<style scoped>\n",
       "    .dataframe tbody tr th:only-of-type {\n",
       "        vertical-align: middle;\n",
       "    }\n",
       "\n",
       "    .dataframe tbody tr th {\n",
       "        vertical-align: top;\n",
       "    }\n",
       "\n",
       "    .dataframe thead th {\n",
       "        text-align: right;\n",
       "    }\n",
       "</style>\n",
       "<table border=\"1\" class=\"dataframe\">\n",
       "  <thead>\n",
       "    <tr style=\"text-align: right;\">\n",
       "      <th></th>\n",
       "      <th>label</th>\n",
       "      <th>review</th>\n",
       "    </tr>\n",
       "  </thead>\n",
       "  <tbody>\n",
       "    <tr>\n",
       "      <th>285610</th>\n",
       "      <td>2</td>\n",
       "      <td>...完全不知道我一直在写错字..【尴尬】左边不是“九”，而是“尤”字少一点；【冒】上面不是...</td>\n",
       "    </tr>\n",
       "    <tr>\n",
       "      <th>26604</th>\n",
       "      <td>0</td>\n",
       "      <td>忍不住再推荐一部电影。李秉宪的《甜蜜的人生》，这部电影一定会让你爱上他！瞧，海报多帅啊！</td>\n",
       "    </tr>\n",
       "    <tr>\n",
       "      <th>208134</th>\n",
       "      <td>1</td>\n",
       "      <td>对说：喜欢新浪想去应聘想去应聘！呜哈哈</td>\n",
       "    </tr>\n",
       "    <tr>\n",
       "      <th>52489</th>\n",
       "      <td>0</td>\n",
       "      <td>吼吼~ 告诉我你们爱谁？！</td>\n",
       "    </tr>\n",
       "    <tr>\n",
       "      <th>156050</th>\n",
       "      <td>0</td>\n",
       "      <td>【博友祝福语】第一个母亲节不能在妈妈的身边，妈妈总是嘱咐远方的我要注意身体，最近忙于家里装修...</td>\n",
       "    </tr>\n",
       "    <tr>\n",
       "      <th>357201</th>\n",
       "      <td>3</td>\n",
       "      <td>醒了睡睡了醒我怎么好像睡不醒似的啊天爆炸了</td>\n",
       "    </tr>\n",
       "    <tr>\n",
       "      <th>93432</th>\n",
       "      <td>0</td>\n",
       "      <td>你的党费好高啊，我半年才交102哦，对不起！各位博友，你的党费交了没？</td>\n",
       "    </tr>\n",
       "    <tr>\n",
       "      <th>93267</th>\n",
       "      <td>0</td>\n",
       "      <td>眼看微博就快要破200萬 了....?上次破百萬 時 發 了張 小學 照我好好想想?.......</td>\n",
       "    </tr>\n",
       "    <tr>\n",
       "      <th>36744</th>\n",
       "      <td>0</td>\n",
       "      <td>帅百花颁发提名奖携手出席引轰动坤少看着还是那么青葱，造型很像湖北希望小学之行的陈老师</td>\n",
       "    </tr>\n",
       "    <tr>\n",
       "      <th>257096</th>\n",
       "      <td>2</td>\n",
       "      <td>我压了我全部家当斯洛伐克赢。。。600点积分都没有了。。。。</td>\n",
       "    </tr>\n",
       "    <tr>\n",
       "      <th>216459</th>\n",
       "      <td>1</td>\n",
       "      <td>赞！★【三行情书!】日本感人的简短小情书！爱得如此简单纯粹。只有三句话！但却直入人心！</td>\n",
       "    </tr>\n",
       "    <tr>\n",
       "      <th>290041</th>\n",
       "      <td>2</td>\n",
       "      <td>最后一句，大家都哭了。。。如果您年薪400万到500万元，二环三环您爱买哪儿买哪儿；如果您年...</td>\n",
       "    </tr>\n",
       "    <tr>\n",
       "      <th>279697</th>\n",
       "      <td>2</td>\n",
       "      <td>看完，唏嘘。俺的9000替我出镜了，也算圆满了。妞阿，老爹想你想得好苦阿，当初咋狠心把你给卖...</td>\n",
       "    </tr>\n",
       "    <tr>\n",
       "      <th>17026</th>\n",
       "      <td>0</td>\n",
       "      <td>欲望咁 强架距?系米傻家?...好贵夸张宜家咩社会下学生！！！係 咪叫精尽人亡啊？依家D 9...</td>\n",
       "    </tr>\n",
       "    <tr>\n",
       "      <th>4806</th>\n",
       "      <td>0</td>\n",
       "      <td>在跟大家挥手这是他在电梯里的位置门边那条胳膊肯定不是他。。。去看看红楼梦喽</td>\n",
       "    </tr>\n",
       "    <tr>\n",
       "      <th>2236</th>\n",
       "      <td>0</td>\n",
       "      <td>还是古代好，切掉小JJ 就能当公务员……送给所有准备公务员考试的朋友</td>\n",
       "    </tr>\n",
       "    <tr>\n",
       "      <th>129057</th>\n",
       "      <td>0</td>\n",
       "      <td>哈哈,那我不是还要认识15个女孩,然后再谈15个女朋友??。【12星座需要谈多少个男（女）朋...</td>\n",
       "    </tr>\n",
       "    <tr>\n",
       "      <th>242816</th>\n",
       "      <td>1</td>\n",
       "      <td>它刚做完实验被抬回来，麻药药效过了一直在抽搐，眼睛微微睁开但是没意识。抽搐的样子太可怕了</td>\n",
       "    </tr>\n",
       "    <tr>\n",
       "      <th>297690</th>\n",
       "      <td>2</td>\n",
       "      <td>麦兜兜的话和小丸子一样喜感中带着深意,忽然怀念起看麦兜笑得从沙发上滚下去的时光了.....→...</td>\n",
       "    </tr>\n",
       "    <tr>\n",
       "      <th>131936</th>\n",
       "      <td>0</td>\n",
       "      <td>吆吆贝贝真美潮流女皇出席东田造型三里屯店开业酒会</td>\n",
       "    </tr>\n",
       "  </tbody>\n",
       "</table>\n",
       "</div>"
      ],
      "text/plain": [
       "        label                                             review\n",
       "285610      2  ...完全不知道我一直在写错字..【尴尬】左边不是“九”，而是“尤”字少一点；【冒】上面不是...\n",
       "26604       0       忍不住再推荐一部电影。李秉宪的《甜蜜的人生》，这部电影一定会让你爱上他！瞧，海报多帅啊！\n",
       "208134      1                                对说：喜欢新浪想去应聘想去应聘！呜哈哈\n",
       "52489       0                                      吼吼~ 告诉我你们爱谁？！\n",
       "156050      0  【博友祝福语】第一个母亲节不能在妈妈的身边，妈妈总是嘱咐远方的我要注意身体，最近忙于家里装修...\n",
       "357201      3                              醒了睡睡了醒我怎么好像睡不醒似的啊天爆炸了\n",
       "93432       0                你的党费好高啊，我半年才交102哦，对不起！各位博友，你的党费交了没？\n",
       "93267       0  眼看微博就快要破200萬 了....?上次破百萬 時 發 了張 小學 照我好好想想?.......\n",
       "36744       0         帅百花颁发提名奖携手出席引轰动坤少看着还是那么青葱，造型很像湖北希望小学之行的陈老师\n",
       "257096      2                     我压了我全部家当斯洛伐克赢。。。600点积分都没有了。。。。\n",
       "216459      1        赞！★【三行情书!】日本感人的简短小情书！爱得如此简单纯粹。只有三句话！但却直入人心！\n",
       "290041      2  最后一句，大家都哭了。。。如果您年薪400万到500万元，二环三环您爱买哪儿买哪儿；如果您年...\n",
       "279697      2  看完，唏嘘。俺的9000替我出镜了，也算圆满了。妞阿，老爹想你想得好苦阿，当初咋狠心把你给卖...\n",
       "17026       0  欲望咁 强架距?系米傻家?...好贵夸张宜家咩社会下学生！！！係 咪叫精尽人亡啊？依家D 9...\n",
       "4806        0              在跟大家挥手这是他在电梯里的位置门边那条胳膊肯定不是他。。。去看看红楼梦喽\n",
       "2236        0                 还是古代好，切掉小JJ 就能当公务员……送给所有准备公务员考试的朋友\n",
       "129057      0  哈哈,那我不是还要认识15个女孩,然后再谈15个女朋友??。【12星座需要谈多少个男（女）朋...\n",
       "242816      1       它刚做完实验被抬回来，麻药药效过了一直在抽搐，眼睛微微睁开但是没意识。抽搐的样子太可怕了\n",
       "297690      2  麦兜兜的话和小丸子一样喜感中带着深意,忽然怀念起看麦兜笑得从沙发上滚下去的时光了.....→...\n",
       "131936      0                           吆吆贝贝真美潮流女皇出席东田造型三里屯店开业酒会"
      ]
     },
     "execution_count": 4,
     "metadata": {},
     "output_type": "execute_result"
    }
   ],
   "source": [
    "# 36万多条，带情感标注 新浪微博，包含 4 种情感，其中喜悦约 20 万条，愤怒、厌恶、低落各约 5 万条\n",
    "emotion = {0: '喜悦', 1: '愤怒', 2: '厌恶', 3: '低落'}\n",
    "df = pd.read_csv(r'.\\data\\simplifyweibo_4_moods.csv')\n",
    "df.sample(20)"
   ]
  },
  {
   "cell_type": "code",
   "execution_count": 5,
   "metadata": {},
   "outputs": [
    {
     "name": "stdout",
     "output_type": "stream",
     "text": [
      "<class 'pandas.core.frame.DataFrame'>\n",
      "RangeIndex: 361744 entries, 0 to 361743\n",
      "Data columns (total 2 columns):\n",
      " #   Column  Non-Null Count   Dtype \n",
      "---  ------  --------------   ----- \n",
      " 0   label   361744 non-null  int64 \n",
      " 1   review  361744 non-null  object\n",
      "dtypes: int64(1), object(1)\n",
      "memory usage: 5.5+ MB\n"
     ]
    }
   ],
   "source": [
    "df.info()"
   ]
  },
  {
   "cell_type": "code",
   "execution_count": 6,
   "metadata": {},
   "outputs": [
    {
     "data": {
      "text/plain": [
       "0    199496\n",
       "2     55267\n",
       "3     55267\n",
       "1     51714\n",
       "Name: label, dtype: int64"
      ]
     },
     "execution_count": 6,
     "metadata": {},
     "output_type": "execute_result"
    }
   ],
   "source": [
    "df[\"label\"].value_counts()"
   ]
  },
  {
   "cell_type": "code",
   "execution_count": 7,
   "metadata": {},
   "outputs": [],
   "source": [
    "# 简繁切换\n",
    "df[\"review\"] = df[\"review\"].apply(lambda x: zhconv.convert(str(x), 'zh-cn'))"
   ]
  },
  {
   "cell_type": "code",
   "execution_count": 8,
   "metadata": {},
   "outputs": [],
   "source": [
    "from preprocessing.text_split import regex_change, delete_stopwords"
   ]
  },
  {
   "cell_type": "code",
   "execution_count": 9,
   "metadata": {},
   "outputs": [
    {
     "data": {
      "text/html": [
       "<div>\n",
       "<style scoped>\n",
       "    .dataframe tbody tr th:only-of-type {\n",
       "        vertical-align: middle;\n",
       "    }\n",
       "\n",
       "    .dataframe tbody tr th {\n",
       "        vertical-align: top;\n",
       "    }\n",
       "\n",
       "    .dataframe thead th {\n",
       "        text-align: right;\n",
       "    }\n",
       "</style>\n",
       "<table border=\"1\" class=\"dataframe\">\n",
       "  <thead>\n",
       "    <tr style=\"text-align: right;\">\n",
       "      <th></th>\n",
       "      <th>label</th>\n",
       "      <th>review</th>\n",
       "    </tr>\n",
       "  </thead>\n",
       "  <tbody>\n",
       "    <tr>\n",
       "      <th>107253</th>\n",
       "      <td>0</td>\n",
       "      <td>关键时刻动作一致.结果很重要.................</td>\n",
       "    </tr>\n",
       "    <tr>\n",
       "      <th>129718</th>\n",
       "      <td>0</td>\n",
       "      <td>。赵薇为江平执导的《康定情歌》祝福视频———苏有朋、居文沛等主演的传奇爱情片《康定情歌》将全...</td>\n",
       "    </tr>\n",
       "    <tr>\n",
       "      <th>9099</th>\n",
       "      <td>0</td>\n",
       "      <td>不需要购置机器了~~从原来的保卫人民转化成现在的服务人民。。。</td>\n",
       "    </tr>\n",
       "    <tr>\n",
       "      <th>4648</th>\n",
       "      <td>0</td>\n",
       "      <td>不知不觉中小e的活动已经是第期啦~非常感谢e粉们的支持，也希望股市大涨，e粉们中大奖【规则如...</td>\n",
       "    </tr>\n",
       "    <tr>\n",
       "      <th>232791</th>\n",
       "      <td>1</td>\n",
       "      <td>哥，你这冷笑话真的不是闹着玩儿的，别这样</td>\n",
       "    </tr>\n",
       "    <tr>\n",
       "      <th>124205</th>\n",
       "      <td>0</td>\n",
       "      <td>友友们，早安，每天好心情什么？突击查房？偶还没有任何思想准备！</td>\n",
       "    </tr>\n",
       "    <tr>\n",
       "      <th>256613</th>\n",
       "      <td>2</td>\n",
       "      <td>太短了吧指望</td>\n",
       "    </tr>\n",
       "    <tr>\n",
       "      <th>232549</th>\n",
       "      <td>1</td>\n",
       "      <td>の，这机器翻译出来的东西，让人晕头转向，头大老师您实在太折磨人了</td>\n",
       "    </tr>\n",
       "    <tr>\n",
       "      <th>203069</th>\n",
       "      <td>1</td>\n",
       "      <td>女生下跪？严酷的应试教育，摧残了一届又一届啊！</td>\n",
       "    </tr>\n",
       "    <tr>\n",
       "      <th>96635</th>\n",
       "      <td>0</td>\n",
       "      <td>Suchanamazingdance,thankyou,Keitha.</td>\n",
       "    </tr>\n",
       "    <tr>\n",
       "      <th>339090</th>\n",
       "      <td>3</td>\n",
       "      <td>。姐姐提醒了我！冥冥之中觉得《画皮》、《花木兰》、《锦衣卫》是纠葛在一起前世今生的恩怨情仇！...</td>\n",
       "    </tr>\n",
       "    <tr>\n",
       "      <th>208793</th>\n",
       "      <td>1</td>\n",
       "      <td>分唔同边.是不是不一样了,今晚听勤劳de男人诉苦了,今天他啃了一张牛肉干,被罚了一百个大洋~...</td>\n",
       "    </tr>\n",
       "    <tr>\n",
       "      <th>119355</th>\n",
       "      <td>0</td>\n",
       "      <td>贼喜欢喜欢黑喜欢！！！超可爱的小丸子邮票和邮戳。</td>\n",
       "    </tr>\n",
       "    <tr>\n",
       "      <th>222718</th>\n",
       "      <td>1</td>\n",
       "      <td>谁能推荐上海几个没人去、很少人去的景点吗？比如淞沪抗战纪念馆。。。。有没有人明天想去上海淞沪...</td>\n",
       "    </tr>\n",
       "    <tr>\n",
       "      <th>279273</th>\n",
       "      <td>2</td>\n",
       "      <td>和谐社会怎么就不和谐了呢注意安全天冷了，北京已经天黑了，大家回家都小心了，尤其是天使MM们。...</td>\n",
       "    </tr>\n",
       "    <tr>\n",
       "      <th>129965</th>\n",
       "      <td>0</td>\n",
       "      <td>回复我更喜欢风景画画画的技术有很高的水平。敬佩画家吴伟庆先生是广州人，早移民加拿大，游历北美...</td>\n",
       "    </tr>\n",
       "    <tr>\n",
       "      <th>298001</th>\n",
       "      <td>2</td>\n",
       "      <td>这个肯定抵制拒看了。。。太垃圾了。。【放狗狗一条生路】导演姚守岗讲述如何拍摄电影《犬王》：“...</td>\n",
       "    </tr>\n",
       "    <tr>\n",
       "      <th>335326</th>\n",
       "      <td>3</td>\n",
       "      <td>好瘦好瘦好瘦~宝你不要再瘦了啊。。。我要！！！看我宝宝瘦的看到排骨了。。。</td>\n",
       "    </tr>\n",
       "    <tr>\n",
       "      <th>5614</th>\n",
       "      <td>0</td>\n",
       "      <td>啊。。我也是会把牛排做成素鸡的好男人啊。。。为毛没有小姑娘来排队。。这要是在上海，有排着队的...</td>\n",
       "    </tr>\n",
       "    <tr>\n",
       "      <th>303359</th>\n",
       "      <td>2</td>\n",
       "      <td>吹空调吹的我肚子疼。我好虚弱啊。</td>\n",
       "    </tr>\n",
       "  </tbody>\n",
       "</table>\n",
       "</div>"
      ],
      "text/plain": [
       "        label                                             review\n",
       "107253      0                    关键时刻动作一致.结果很重要.................\n",
       "129718      0  。赵薇为江平执导的《康定情歌》祝福视频———苏有朋、居文沛等主演的传奇爱情片《康定情歌》将全...\n",
       "9099        0                    不需要购置机器了~~从原来的保卫人民转化成现在的服务人民。。。\n",
       "4648        0  不知不觉中小e的活动已经是第期啦~非常感谢e粉们的支持，也希望股市大涨，e粉们中大奖【规则如...\n",
       "232791      1                               哥，你这冷笑话真的不是闹着玩儿的，别这样\n",
       "124205      0                    友友们，早安，每天好心情什么？突击查房？偶还没有任何思想准备！\n",
       "256613      2                                             太短了吧指望\n",
       "232549      1                   の，这机器翻译出来的东西，让人晕头转向，头大老师您实在太折磨人了\n",
       "203069      1                            女生下跪？严酷的应试教育，摧残了一届又一届啊！\n",
       "96635       0                Suchanamazingdance,thankyou,Keitha.\n",
       "339090      3  。姐姐提醒了我！冥冥之中觉得《画皮》、《花木兰》、《锦衣卫》是纠葛在一起前世今生的恩怨情仇！...\n",
       "208793      1  分唔同边.是不是不一样了,今晚听勤劳de男人诉苦了,今天他啃了一张牛肉干,被罚了一百个大洋~...\n",
       "119355      0                           贼喜欢喜欢黑喜欢！！！超可爱的小丸子邮票和邮戳。\n",
       "222718      1  谁能推荐上海几个没人去、很少人去的景点吗？比如淞沪抗战纪念馆。。。。有没有人明天想去上海淞沪...\n",
       "279273      2  和谐社会怎么就不和谐了呢注意安全天冷了，北京已经天黑了，大家回家都小心了，尤其是天使MM们。...\n",
       "129965      0  回复我更喜欢风景画画画的技术有很高的水平。敬佩画家吴伟庆先生是广州人，早移民加拿大，游历北美...\n",
       "298001      2  这个肯定抵制拒看了。。。太垃圾了。。【放狗狗一条生路】导演姚守岗讲述如何拍摄电影《犬王》：“...\n",
       "335326      3              好瘦好瘦好瘦~宝你不要再瘦了啊。。。我要！！！看我宝宝瘦的看到排骨了。。。\n",
       "5614        0  啊。。我也是会把牛排做成素鸡的好男人啊。。。为毛没有小姑娘来排队。。这要是在上海，有排着队的...\n",
       "303359      2                                   吹空调吹的我肚子疼。我好虚弱啊。"
      ]
     },
     "execution_count": 9,
     "metadata": {},
     "output_type": "execute_result"
    }
   ],
   "source": [
    "# 正则获取主要信息\n",
    "df[\"review\"] = df[\"review\"].apply(regex_change)\n",
    "df.sample(20)"
   ]
  },
  {
   "cell_type": "code",
   "execution_count": 10,
   "metadata": {},
   "outputs": [
    {
     "name": "stderr",
     "output_type": "stream",
     "text": [
      "Building prefix dict from the default dictionary ...\n",
      "Loading model from cache C:\\Users\\11353\\AppData\\Local\\Temp\\jieba.cache\n",
      "Loading model cost 0.535 seconds.\n",
      "Prefix dict has been built successfully.\n"
     ]
    },
    {
     "data": {
      "text/plain": [
       "31779                                   奖 股 市 涨 急 死 机 构 散 户\n",
       "339256            低 端 处 重 发 雷 漫 画 贞 子 发 失 败 感 谢 家 热 情 回 复 雷\n",
       "310337                                                  钱 钱\n",
       "80421                               鼻 窍 通 脑 脑 渗 涕 名 副 实 脑 残\n",
       "142136                                  意 思 目 前 止 觉 爱 放 假 版\n",
       "98803     o h b a b e 直 播 晚 算 学 习 家 晚 沈 阳 康 熙 盛 典 直 播 址 ...\n",
       "275300                    醒 继 续 睡 哭 滴 明 天 醒 天 醒 天 醒 天 醒 天 醒\n",
       "124069                                              发 达 包 养\n",
       "52805                                       龟 甘 恶 龟 城 猫 猫 走\n",
       "153536                        尿 憋 配 音 赞 狗 模 样 哥 撒 点 孜 少 放 辣\n",
       "105587    回 复 知 解 觉 信 天 主 教 貌 似 信 基 督 新 教 解 基 督 教 住 说 帝 ...\n",
       "26161     噗 H H P 辛 苦 合 体 V 噗 戳 中 H H P 喷 咖 啡 居 萌 娘 噗 H ...\n",
       "231259                                          天 做 愚 蠢 事 情\n",
       "316788        偶 家 灾 情 严 重 天 终 明 媚 太 阳 希 暴 雨 山 东 禹 城 防 汛 救 灾\n",
       "276180                                    节 目 听 急 死 言 姐 救 命\n",
       "222959                                          姐 腰 肥 圈 救 命\n",
       "170580    男 士 济 男 士 嘅 福 音 拜 金 男 考 虑 噶 世 界 首 富 女 现 面 全 球 ...\n",
       "150687                                          堵 心 堵 肺 堵 胃\n",
       "267318                          摩 羯 悲 剧 星 座 喜 欢 十 表 现 完 全 版\n",
       "111195    辜 猴 子 塔 利 班 训 练 猴 子 枪 炮 袭 击 美 军 富 汗 塔 利 班 军 阀 ...\n",
       "Name: review, dtype: object"
      ]
     },
     "execution_count": 10,
     "metadata": {},
     "output_type": "execute_result"
    }
   ],
   "source": [
    "df[\"review\"].apply(delete_stopwords).sample(20)"
   ]
  },
  {
   "cell_type": "code",
   "execution_count": 16,
   "metadata": {},
   "outputs": [
    {
     "data": {
      "text/plain": [
       "'风格 不 一样 嘛 ， 都 喜欢 ！ 最 喜欢 哪张 ？'"
      ]
     },
     "execution_count": 16,
     "metadata": {},
     "output_type": "execute_result"
    }
   ],
   "source": [
    "\" \".join(jieba.lcut(df.review[2]))"
   ]
  },
  {
   "cell_type": "code",
   "execution_count": 28,
   "metadata": {},
   "outputs": [
    {
     "data": {
      "text/plain": [
       "['sasdad分割哥哥', '阿松大', 'sd']"
      ]
     },
     "execution_count": 28,
     "metadata": {},
     "output_type": "execute_result"
    }
   ],
   "source": [
    "import re\n",
    "text = \"sasdad分割哥哥？阿松大..sd\"\n",
    "patt = re.compile(\"\\w+\", re.VERBOSE|re.IGNORECASE)\n",
    "patt.findall(text)"
   ]
  },
  {
   "cell_type": "code",
   "execution_count": 37,
   "metadata": {},
   "outputs": [
    {
     "data": {
      "text/plain": [
       "['姐姐提醒了我',\n",
       " '冥冥之中觉得',\n",
       " '画皮',\n",
       " '花木兰',\n",
       " '锦衣卫',\n",
       " '是纠葛在一起前世今生的恩怨情仇',\n",
       " '前生佩蓉欠了勇哥的情',\n",
       " '来世变作大漠中痴痴等候青龙的乔花',\n",
       " '而前世王生欠了佩蓉的债',\n",
       " '今生他做了木兰背后的文泰']"
      ]
     },
     "execution_count": 37,
     "metadata": {},
     "output_type": "execute_result"
    }
   ],
   "source": [
    "pat = re.compile(\"[\\u4E00-\\u9FA5]+\", re.VERBOSE|re.IGNORECASE)\n",
    "s = pat.findall(df.review[339090])\n",
    "s"
   ]
  },
  {
   "cell_type": "code",
   "execution_count": 39,
   "metadata": {},
   "outputs": [
    {
     "data": {
      "text/plain": [
       "'姐姐 提醒 了 我 冥冥之中 觉得 画皮 花木兰 锦衣卫 是 纠葛 在 一起 前世 今生 的 恩怨 情仇 前生 佩蓉 欠 了 勇哥 的 情 来世 变 作 大漠 中 痴痴 等候 青龙 的 乔花 而 前世 王生 欠 了 佩蓉 的 债 今生 他 做 了 木兰 背后 的 文泰'"
      ]
     },
     "execution_count": 39,
     "metadata": {},
     "output_type": "execute_result"
    }
   ],
   "source": [
    "tl = []\n",
    "for i in s:\n",
    "    tl += [x for x in jieba.cut(i)]\n",
    "\" \".join(tl)"
   ]
  },
  {
   "cell_type": "code",
   "execution_count": 54,
   "metadata": {},
   "outputs": [],
   "source": [
    "with open(\".\\data\\stopwords.dat\", encoding=\"utf-8\") as fp:\n",
    "    lines = fp.readlines()\n",
    "stop_word = []\n",
    "for line in lines:\n",
    "    stop_word.append(line.rsplit(\"\\n\")[0])\n",
    "with open(\"stopwords.txt\", \"w\", encoding=\"utf-8\") as fp:\n",
    "    fp.write(\" \".join(stop_word))\n"
   ]
  },
  {
   "cell_type": "code",
   "execution_count": 55,
   "metadata": {},
   "outputs": [
    {
     "data": {
      "text/plain": [
       "['噗',\n",
       " '哈哈哈哈',\n",
       " 'HHP',\n",
       " '辛苦',\n",
       " '合体',\n",
       " 'V5',\n",
       " '噗',\n",
       " '哈哈哈',\n",
       " '戳',\n",
       " '中',\n",
       " 'HHP',\n",
       " '喷',\n",
       " '咖啡',\n",
       " '萌',\n",
       " '娘',\n",
       " '哈哈哈',\n",
       " '哈哈哈',\n",
       " '噗',\n",
       " 'HHP',\n",
       " '草泥马',\n",
       " '法可',\n",
       " '鱿',\n",
       " '合体',\n",
       " '魅力',\n",
       " '不容忽视',\n",
       " '噗',\n",
       " '....']"
      ]
     },
     "execution_count": 55,
     "metadata": {},
     "output_type": "execute_result"
    }
   ],
   "source": [
    "[word for word in jieba.lcut(df.review[26161]) if word not in stop_word]"
   ]
  },
  {
   "cell_type": "code",
   "execution_count": 58,
   "metadata": {},
   "outputs": [
    {
     "data": {
      "text/plain": [
       "'姐姐 提醒 冥冥之中 画皮 花木兰 锦衣卫 纠葛 前世 今生 恩怨 情仇 前生 佩蓉 欠 勇哥 情 来世 变 作 大漠 中 痴痴 等候 青龙 乔花 前世 王生 欠 佩蓉 债 今生 做 木兰 背后 文泰'"
      ]
     },
     "execution_count": 58,
     "metadata": {},
     "output_type": "execute_result"
    }
   ],
   "source": [
    "def jieba_cut_text(text, stop_word, cut_by=\" \"):\n",
    "    patt = re.compile(\"[\\u4E00-\\u9FA5]+\", re.VERBOSE|re.IGNORECASE)\n",
    "    word_list = []\n",
    "    for t in patt.findall(text):\n",
    "        word_list += [word for word in jieba.cut(t) if word not in stop_word]\n",
    "\n",
    "    return cut_by.join(word_list)\n",
    "\n",
    "jieba_cut_text(df.review[339090], stop_word)"
   ]
  },
  {
   "cell_type": "code",
   "execution_count": null,
   "metadata": {},
   "outputs": [],
   "source": []
  }
 ],
 "metadata": {
  "interpreter": {
   "hash": "475b53276e332a8131e9177491a7c9ba9dad8ca60c99b840b9e30f84564d4727"
  },
  "kernelspec": {
   "display_name": "Python 3.8.10 64-bit ('venv': venv)",
   "language": "python",
   "name": "python3"
  },
  "language_info": {
   "codemirror_mode": {
    "name": "ipython",
    "version": 3
   },
   "file_extension": ".py",
   "mimetype": "text/x-python",
   "name": "python",
   "nbconvert_exporter": "python",
   "pygments_lexer": "ipython3",
   "version": "3.8.10"
  },
  "orig_nbformat": 4
 },
 "nbformat": 4,
 "nbformat_minor": 2
}
