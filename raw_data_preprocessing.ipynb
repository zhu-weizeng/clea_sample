{
 "cells": [
  {
   "cell_type": "code",
   "execution_count": 1,
   "metadata": {},
   "outputs": [],
   "source": [
    "# %%cmd\n",
    "# pip install flask pandas numpy matplotlib scikit-learn jieba zhconv"
   ]
  },
  {
   "cell_type": "code",
   "execution_count": 2,
   "metadata": {},
   "outputs": [],
   "source": [
    "# %%cmd\n",
    "# pip list"
   ]
  },
  {
   "cell_type": "markdown",
   "metadata": {},
   "source": [
    "# 基于朴素贝叶斯的中文文本情感分析"
   ]
  },
  {
   "cell_type": "markdown",
   "metadata": {},
   "source": [
    "## python 库版本\n",
    "list\n",
    "|   Package    | Version |\n",
    "| :----------: | :-----: |\n",
    "|    Flask     |  2.0.2  |\n",
    "|    jieba     | 0.42.1  |\n",
    "|  matplotlib  |  3.4.3  |\n",
    "|    numpy     | 1.21.4  |\n",
    "|    pandas    |  1.3.4  |\n",
    "| scikit-learn |  1.0.1  |\n",
    "|    scipy     |  1.7.2  |"
   ]
  },
  {
   "cell_type": "markdown",
   "metadata": {},
   "source": [
    "## 文本处理\n",
    "1. 去除停用词，标点符号等\n",
    "2. 文章参考 https://zhuanlan.zhihu.com/p/39437488\n",
    "3. 字段含义 https://github.com/SophonPlus/ChineseNlpCorpus/blob/master/datasets/simplifyweibo_4_moods/intro.ipynb\n",
    "\n",
    "| 字段   | 说明                           |\n",
    "| :----- | :----------------------------- |\n",
    "| label  | 0 喜悦，1 愤怒，2 厌恶，3 低落 |\n",
    "| review | 微博内容                       |"
   ]
  },
  {
   "cell_type": "code",
   "execution_count": 3,
   "metadata": {},
   "outputs": [],
   "source": [
    "import pandas as pd\n",
    "import jieba\n",
    "import zhconv\n",
    "import re"
   ]
  },
  {
   "cell_type": "code",
   "execution_count": 4,
   "metadata": {},
   "outputs": [
    {
     "data": {
      "text/html": [
       "<div>\n",
       "<style scoped>\n",
       "    .dataframe tbody tr th:only-of-type {\n",
       "        vertical-align: middle;\n",
       "    }\n",
       "\n",
       "    .dataframe tbody tr th {\n",
       "        vertical-align: top;\n",
       "    }\n",
       "\n",
       "    .dataframe thead th {\n",
       "        text-align: right;\n",
       "    }\n",
       "</style>\n",
       "<table border=\"1\" class=\"dataframe\">\n",
       "  <thead>\n",
       "    <tr style=\"text-align: right;\">\n",
       "      <th></th>\n",
       "      <th>label</th>\n",
       "      <th>review</th>\n",
       "    </tr>\n",
       "  </thead>\n",
       "  <tbody>\n",
       "    <tr>\n",
       "      <th>211372</th>\n",
       "      <td>1</td>\n",
       "      <td>一个师弟介绍了一个他的师兄给我认识。。跟陌生人聊天不习惯。~ 谁告诉我一个好的FLASH 话...</td>\n",
       "    </tr>\n",
       "    <tr>\n",
       "      <th>167340</th>\n",
       "      <td>0</td>\n",
       "      <td>她去广东进货了也。。。也好，散散心。。。</td>\n",
       "    </tr>\n",
       "    <tr>\n",
       "      <th>253585</th>\n",
       "      <td>2</td>\n",
       "      <td>加油灏明！在心里默默为你祈祷~ ~ ~ 希望你能赶紧好起来！大家也快一起帮灏明加油吧！天娱官...</td>\n",
       "    </tr>\n",
       "    <tr>\n",
       "      <th>303993</th>\n",
       "      <td>2</td>\n",
       "      <td>试试嘿嘿是不是哦？？试一下据说，只要这个就能求到自己想要的真爱不信你试试。</td>\n",
       "    </tr>\n",
       "    <tr>\n",
       "      <th>171854</th>\n",
       "      <td>0</td>\n",
       "      <td>回复他的小名叫大辉我本来叫他大新他听了生气了逼着我叫他大辉我不想输给他就加了狼哈哈为什么叫大...</td>\n",
       "    </tr>\n",
       "    <tr>\n",
       "      <th>169146</th>\n",
       "      <td>0</td>\n",
       "      <td>曝！OPPO U525 内置新浪微博！只要关注我，本条微博并评论为：，加玩围脖心得，就有机会...</td>\n",
       "    </tr>\n",
       "    <tr>\n",
       "      <th>242652</th>\n",
       "      <td>1</td>\n",
       "      <td>在天朝，但凡出了人命，就是升官发财的机会！！基本上升官了，一级就是一条人命</td>\n",
       "    </tr>\n",
       "    <tr>\n",
       "      <th>263082</th>\n",
       "      <td>2</td>\n",
       "      <td>妞妞这几天好似不舒服，连拉了三天肚子，想想距离上次吃打虫药时间正好三个月了，于是今天中午飞车...</td>\n",
       "    </tr>\n",
       "    <tr>\n",
       "      <th>137689</th>\n",
       "      <td>0</td>\n",
       "      <td>呵呵，哥们太有才了，支持~ ~ x 谢您欣赏！好一个粉丝耶，难渡汪洋海。众多粉丝哟，新浪开大...</td>\n",
       "    </tr>\n",
       "    <tr>\n",
       "      <th>211566</th>\n",
       "      <td>1</td>\n",
       "      <td>云南文山壮族苗族自治州麻栗坡县原县委书记、文山州民政局原局长赵仕永贪污受贿近500万，还有千...</td>\n",
       "    </tr>\n",
       "    <tr>\n",
       "      <th>352963</th>\n",
       "      <td>3</td>\n",
       "      <td>哎呀~ 哇嘞个擦的~ 血溅七尺~ ~ 言语无能，看大图要慎重，深呼吸然后备好纸巾和红枣之类…...</td>\n",
       "    </tr>\n",
       "    <tr>\n",
       "      <th>12851</th>\n",
       "      <td>0</td>\n",
       "      <td>幸福的哟~ ~ 哈哈男友畫 的我～</td>\n",
       "    </tr>\n",
       "    <tr>\n",
       "      <th>99314</th>\n",
       "      <td>0</td>\n",
       "      <td>狮子爸爸果然很V5 ...★真实版的《狮子王》，辛巴威武啊</td>\n",
       "    </tr>\n",
       "    <tr>\n",
       "      <th>120696</th>\n",
       "      <td>0</td>\n",
       "      <td>今日又打波，身体感觉无甘辛苦，爽哇</td>\n",
       "    </tr>\n",
       "    <tr>\n",
       "      <th>242010</th>\n",
       "      <td>1</td>\n",
       "      <td>看完这幅图，哥哭了，从这幅图里哥领悟出了一个道理，那就是，长久的等待未必会换来惊喜，也许换来...</td>\n",
       "    </tr>\n",
       "    <tr>\n",
       "      <th>60079</th>\n",
       "      <td>0</td>\n",
       "      <td>唔转简直唔系姊妹啦！哇~ 好靓 女啊！肥珊你快睇下…</td>\n",
       "    </tr>\n",
       "    <tr>\n",
       "      <th>191375</th>\n",
       "      <td>0</td>\n",
       "      <td>回复在做异步化和comet streaming 的应用层框架实现在搞什么产品？FF 浏览器显...</td>\n",
       "    </tr>\n",
       "    <tr>\n",
       "      <th>179970</th>\n",
       "      <td>0</td>\n",
       "      <td>好喜欢啊！谢谢你啦！(via 蔡虎)</td>\n",
       "    </tr>\n",
       "    <tr>\n",
       "      <th>61633</th>\n",
       "      <td>0</td>\n",
       "      <td>自抬身价昨天在超市里，看见一只五花大绑着的螃蟹从标价18.9元的水箱里往标价28.9元的水箱...</td>\n",
       "    </tr>\n",
       "    <tr>\n",
       "      <th>11756</th>\n",
       "      <td>0</td>\n",
       "      <td>视频好有意思，哈哈！支持【MINI 车队！不要遗憾，马上加入围观队伍，只要你并评论此条微博，...</td>\n",
       "    </tr>\n",
       "  </tbody>\n",
       "</table>\n",
       "</div>"
      ],
      "text/plain": [
       "        label                                             review\n",
       "211372      1  一个师弟介绍了一个他的师兄给我认识。。跟陌生人聊天不习惯。~ 谁告诉我一个好的FLASH 话...\n",
       "167340      0                               她去广东进货了也。。。也好，散散心。。。\n",
       "253585      2  加油灏明！在心里默默为你祈祷~ ~ ~ 希望你能赶紧好起来！大家也快一起帮灏明加油吧！天娱官...\n",
       "303993      2              试试嘿嘿是不是哦？？试一下据说，只要这个就能求到自己想要的真爱不信你试试。\n",
       "171854      0  回复他的小名叫大辉我本来叫他大新他听了生气了逼着我叫他大辉我不想输给他就加了狼哈哈为什么叫大...\n",
       "169146      0  曝！OPPO U525 内置新浪微博！只要关注我，本条微博并评论为：，加玩围脖心得，就有机会...\n",
       "242652      1              在天朝，但凡出了人命，就是升官发财的机会！！基本上升官了，一级就是一条人命\n",
       "263082      2  妞妞这几天好似不舒服，连拉了三天肚子，想想距离上次吃打虫药时间正好三个月了，于是今天中午飞车...\n",
       "137689      0  呵呵，哥们太有才了，支持~ ~ x 谢您欣赏！好一个粉丝耶，难渡汪洋海。众多粉丝哟，新浪开大...\n",
       "211566      1  云南文山壮族苗族自治州麻栗坡县原县委书记、文山州民政局原局长赵仕永贪污受贿近500万，还有千...\n",
       "352963      3  哎呀~ 哇嘞个擦的~ 血溅七尺~ ~ 言语无能，看大图要慎重，深呼吸然后备好纸巾和红枣之类…...\n",
       "12851       0                                  幸福的哟~ ~ 哈哈男友畫 的我～\n",
       "99314       0                      狮子爸爸果然很V5 ...★真实版的《狮子王》，辛巴威武啊\n",
       "120696      0                                  今日又打波，身体感觉无甘辛苦，爽哇\n",
       "242010      1  看完这幅图，哥哭了，从这幅图里哥领悟出了一个道理，那就是，长久的等待未必会换来惊喜，也许换来...\n",
       "60079       0                         唔转简直唔系姊妹啦！哇~ 好靓 女啊！肥珊你快睇下…\n",
       "191375      0  回复在做异步化和comet streaming 的应用层框架实现在搞什么产品？FF 浏览器显...\n",
       "179970      0                                 好喜欢啊！谢谢你啦！(via 蔡虎)\n",
       "61633       0  自抬身价昨天在超市里，看见一只五花大绑着的螃蟹从标价18.9元的水箱里往标价28.9元的水箱...\n",
       "11756       0  视频好有意思，哈哈！支持【MINI 车队！不要遗憾，马上加入围观队伍，只要你并评论此条微博，..."
      ]
     },
     "execution_count": 4,
     "metadata": {},
     "output_type": "execute_result"
    }
   ],
   "source": [
    "# 36万多条，带情感标注 新浪微博，包含 4 种情感，其中喜悦约 20 万条，愤怒、厌恶、低落各约 5 万条\n",
    "emotion = {0: '喜悦', 1: '愤怒', 2: '厌恶', 3: '低落'}\n",
    "df = pd.read_csv(r'.\\data\\simplifyweibo_4_moods.csv')\n",
    "df.sample(20)"
   ]
  },
  {
   "cell_type": "code",
   "execution_count": 5,
   "metadata": {},
   "outputs": [
    {
     "name": "stdout",
     "output_type": "stream",
     "text": [
      "<class 'pandas.core.frame.DataFrame'>\n",
      "RangeIndex: 361744 entries, 0 to 361743\n",
      "Data columns (total 2 columns):\n",
      " #   Column  Non-Null Count   Dtype \n",
      "---  ------  --------------   ----- \n",
      " 0   label   361744 non-null  int64 \n",
      " 1   review  361744 non-null  object\n",
      "dtypes: int64(1), object(1)\n",
      "memory usage: 5.5+ MB\n"
     ]
    }
   ],
   "source": [
    "df.info()"
   ]
  },
  {
   "cell_type": "code",
   "execution_count": 6,
   "metadata": {},
   "outputs": [
    {
     "data": {
      "text/plain": [
       "0    199496\n",
       "2     55267\n",
       "3     55267\n",
       "1     51714\n",
       "Name: label, dtype: int64"
      ]
     },
     "execution_count": 6,
     "metadata": {},
     "output_type": "execute_result"
    }
   ],
   "source": [
    "df[\"label\"].value_counts()"
   ]
  },
  {
   "cell_type": "code",
   "execution_count": 7,
   "metadata": {},
   "outputs": [],
   "source": [
    "# 简繁切换\n",
    "df[\"review\"] = df[\"review\"].apply(lambda x: zhconv.convert(str(x), 'zh-cn'))"
   ]
  },
  {
   "cell_type": "code",
   "execution_count": 8,
   "metadata": {},
   "outputs": [
    {
     "data": {
      "text/plain": [
       "['!', '\"', '#', '$', '%', '&', \"'\", '(', ')', '*']"
      ]
     },
     "execution_count": 8,
     "metadata": {},
     "output_type": "execute_result"
    }
   ],
   "source": [
    "# 读取停用词，stopwords.txt 使用 空格 划分每一个词语\n",
    "with open(\"stopwords.txt\", \"r\", encoding=\"utf-8\") as fp:\n",
    "    stop_word = fp.read().split()\n",
    "stop_word[: 10]"
   ]
  },
  {
   "cell_type": "code",
   "execution_count": 9,
   "metadata": {},
   "outputs": [],
   "source": [
    "def jieba_cut_text(text, stop_word, cut_by=\" \"):\n",
    "    # [\\u4E00-\\u9FA5]+ 去除非中文字符\n",
    "    patt = re.compile(\"[\\u4E00-\\u9FA5]+\", re.VERBOSE|re.IGNORECASE)\n",
    "    word_list = []\n",
    "    for t in patt.findall(text):\n",
    "        word_list += [word for word in jieba.cut(t) if word not in stop_word]\n",
    "\n",
    "    return cut_by.join(word_list)"
   ]
  },
  {
   "cell_type": "code",
   "execution_count": 10,
   "metadata": {},
   "outputs": [
    {
     "name": "stderr",
     "output_type": "stream",
     "text": [
      "Building prefix dict from the default dictionary ...\n",
      "Loading model from cache C:\\Users\\11353\\AppData\\Local\\Temp\\jieba.cache\n",
      "Loading model cost 0.624 seconds.\n",
      "Prefix dict has been built successfully.\n"
     ]
    },
    {
     "data": {
      "text/plain": [
       "'姐姐 提醒 冥冥之中 画皮 花木兰 锦衣卫 纠葛 前世 今生 恩怨 情仇 前生 佩蓉 欠 勇哥 情 来世 变 作 大漠 中 痴痴 等候 青龙 乔花 前世 王生 欠 佩蓉 债 今生 做 木兰 背后 文泰'"
      ]
     },
     "execution_count": 10,
     "metadata": {},
     "output_type": "execute_result"
    }
   ],
   "source": [
    "jieba_cut_text(df.review[339090], stop_word)"
   ]
  },
  {
   "cell_type": "code",
   "execution_count": 11,
   "metadata": {},
   "outputs": [],
   "source": [
    "df[\"review\"] = df[\"review\"].apply(lambda x: jieba_cut_text(x, stop_word))"
   ]
  },
  {
   "cell_type": "code",
   "execution_count": 12,
   "metadata": {},
   "outputs": [
    {
     "data": {
      "text/plain": [
       "143333          回复 晚上 老婆 放假 约 哥们 喝酒 发个 坐标 噢 办公室 很近 中关村 请 吃饭\n",
       "131902    帽子 帽子 哈哈哈 哈哈哈哈 宝宝 措样 好像 外星人 哈哈哈哈 哈哈哈哈 帽子 戴久 睡着...\n",
       "60639                                             相机 借到 疯哥谢\n",
       "319934    岁月流逝 感伤 戳 泪点 年 孩子 演唱会 微博 直播 感动 感谢 十年 前 歌迷 感谢 加...\n",
       "300495                        搜索 心 触目惊心 繁殖 狗 真实 内幕 请以 领养 买卖\n",
       "321669                   赶紧 明儿 奔 超市 表唱 咿呀 咿呀 滴 心脏 受不鸟 咿呀 咿呀\n",
       "327849    回复 真得 资本 挤出 认 最怕 大哥 挤走 企业 老板 想法 一是 企业 资产 卖掉 移民...\n",
       "268416    等待 我要 里庄 这一课 补上 参与 快乐 片段 收齐 未来 快乐 传递 东东 枪 童鞋 听...\n",
       "209182    朵花 带回 北京 公道 人心 周笔畅 想 挑拨 笔亲 周笔 之间 关系 想 伤害 孩子 说 ...\n",
       "54030     近日 德国 著名 街头 艺术家 埃德加 穆勒 花 天 时间 莫斯科 一条 街道 上画 一幅 ...\n",
       "250994               不说 旁边 那位 施罗德 烦 布什 挺 可爱 突袭 太 囧 讨厌 乔治 布什\n",
       "20362     今明两天 我市 中到大雨 局部 阵雨 阴雨 驾车 朋友 请 小心 驾驶 天雨路 滑 车速 过...\n",
       "148695                                              喜欢 百度 汪\n",
       "216479    杭州 房子 住 元 需 不吃不喝 年 杭州 均价 元 平米 人均收入 元 需 年 北京 均价...\n",
       "131416    回复 聪明 做法 提起 东西 沉睡 驳倒 马克思 难事 喜好 定义 名词 马克思 必败 管它...\n",
       "355333    三件 四件 两个 快快 几年 时间 岁 美好 件 事 做 好多 岁 美好 件 事 做 恋爱 ...\n",
       "328051                           新疆 行 结束 发愁 明天 飞机 重 葡萄 搬 回家\n",
       "41023     可爱 付哥 刚刚 付哥 牵 小姑娘 小心 小姑娘 裙子 付哥 台下 粉丝 大声 喊 喊 裙子...\n",
       "359045    唐山 南京 年前 唐山 遭遇 级 地震 死亡 祭奠 地震 中 逝去 同胞 请 脖友们 加 此...\n",
       "96407     前不久 有个 美貌 妹妹 新浪 面试 前台 素 风格 说 新浪 估计 公司 早 近水楼台 公...\n",
       "Name: review, dtype: object"
      ]
     },
     "execution_count": 12,
     "metadata": {},
     "output_type": "execute_result"
    }
   ],
   "source": [
    "df[\"review\"].sample(20)"
   ]
  },
  {
   "cell_type": "code",
   "execution_count": 14,
   "metadata": {},
   "outputs": [
    {
     "data": {
      "text/html": [
       "<div>\n",
       "<style scoped>\n",
       "    .dataframe tbody tr th:only-of-type {\n",
       "        vertical-align: middle;\n",
       "    }\n",
       "\n",
       "    .dataframe tbody tr th {\n",
       "        vertical-align: top;\n",
       "    }\n",
       "\n",
       "    .dataframe thead th {\n",
       "        text-align: right;\n",
       "    }\n",
       "</style>\n",
       "<table border=\"1\" class=\"dataframe\">\n",
       "  <thead>\n",
       "    <tr style=\"text-align: right;\">\n",
       "      <th></th>\n",
       "      <th>label</th>\n",
       "      <th>review</th>\n",
       "    </tr>\n",
       "  </thead>\n",
       "  <tbody>\n",
       "    <tr>\n",
       "      <th>0</th>\n",
       "      <td>0</td>\n",
       "      <td>啊呀呀 要死 穿 外套 件 余 周小伦 喜欢 五角星 项 链 露 胸 衣服 伦伦 真的 越来越 帅</td>\n",
       "    </tr>\n",
       "    <tr>\n",
       "      <th>1</th>\n",
       "      <td>0</td>\n",
       "      <td>大姚 通知 收到 姚 外星人 入侵 地球 摧毁 网络 地球 完蛋 恐惧 越 越 阿粥 外星人...</td>\n",
       "    </tr>\n",
       "    <tr>\n",
       "      <th>2</th>\n",
       "      <td>0</td>\n",
       "      <td>风格 喜欢 喜欢 哪张</td>\n",
       "    </tr>\n",
       "    <tr>\n",
       "      <th>3</th>\n",
       "      <td>0</td>\n",
       "      <td>试试 去死皮 面膜 燕麦片 加水 中 浸泡 小时 木瓜 牛奶 搅拌 放入 压缩 纸 面膜 敷...</td>\n",
       "    </tr>\n",
       "    <tr>\n",
       "      <th>4</th>\n",
       "      <td>0</td>\n",
       "      <td>张老师 谢谢 侬 信任 粉丝 无所谓 重在 质地 近日 发现 现象 他加 关注 回加 取消 ...</td>\n",
       "    </tr>\n",
       "  </tbody>\n",
       "</table>\n",
       "</div>"
      ],
      "text/plain": [
       "   label                                             review\n",
       "0      0  啊呀呀 要死 穿 外套 件 余 周小伦 喜欢 五角星 项 链 露 胸 衣服 伦伦 真的 越来越 帅\n",
       "1      0  大姚 通知 收到 姚 外星人 入侵 地球 摧毁 网络 地球 完蛋 恐惧 越 越 阿粥 外星人...\n",
       "2      0                                        风格 喜欢 喜欢 哪张\n",
       "3      0  试试 去死皮 面膜 燕麦片 加水 中 浸泡 小时 木瓜 牛奶 搅拌 放入 压缩 纸 面膜 敷...\n",
       "4      0  张老师 谢谢 侬 信任 粉丝 无所谓 重在 质地 近日 发现 现象 他加 关注 回加 取消 ..."
      ]
     },
     "execution_count": 14,
     "metadata": {},
     "output_type": "execute_result"
    }
   ],
   "source": [
    "df.head()"
   ]
  },
  {
   "cell_type": "code",
   "execution_count": null,
   "metadata": {},
   "outputs": [],
   "source": [
    "df[\"label\"] = df[\"label\"].apply(lambda x: emotion[x])"
   ]
  },
  {
   "cell_type": "code",
   "execution_count": 13,
   "metadata": {},
   "outputs": [],
   "source": [
    "df.to_pickle(\"simplifyweibo_4_moods_preprocessing.pkl.bz2\")"
   ]
  },
  {
   "cell_type": "code",
   "execution_count": null,
   "metadata": {},
   "outputs": [],
   "source": []
  }
 ],
 "metadata": {
  "interpreter": {
   "hash": "475b53276e332a8131e9177491a7c9ba9dad8ca60c99b840b9e30f84564d4727"
  },
  "kernelspec": {
   "display_name": "Python 3.8.10 64-bit ('venv': venv)",
   "language": "python",
   "name": "python3"
  },
  "language_info": {
   "codemirror_mode": {
    "name": "ipython",
    "version": 3
   },
   "file_extension": ".py",
   "mimetype": "text/x-python",
   "name": "python",
   "nbconvert_exporter": "python",
   "pygments_lexer": "ipython3",
   "version": "3.8.10"
  },
  "orig_nbformat": 4
 },
 "nbformat": 4,
 "nbformat_minor": 2
}
