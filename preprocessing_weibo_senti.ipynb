{
 "cells": [
  {
   "cell_type": "code",
   "execution_count": 1,
   "metadata": {},
   "outputs": [],
   "source": [
    "import pandas as pd\n",
    "import jieba\n",
    "import zhconv\n",
    "import re"
   ]
  },
  {
   "cell_type": "code",
   "execution_count": 2,
   "metadata": {},
   "outputs": [
    {
     "data": {
      "text/html": [
       "<div>\n",
       "<style scoped>\n",
       "    .dataframe tbody tr th:only-of-type {\n",
       "        vertical-align: middle;\n",
       "    }\n",
       "\n",
       "    .dataframe tbody tr th {\n",
       "        vertical-align: top;\n",
       "    }\n",
       "\n",
       "    .dataframe thead th {\n",
       "        text-align: right;\n",
       "    }\n",
       "</style>\n",
       "<table border=\"1\" class=\"dataframe\">\n",
       "  <thead>\n",
       "    <tr style=\"text-align: right;\">\n",
       "      <th></th>\n",
       "      <th>label</th>\n",
       "      <th>review</th>\n",
       "    </tr>\n",
       "  </thead>\n",
       "  <tbody>\n",
       "    <tr>\n",
       "      <th>69709</th>\n",
       "      <td>0</td>\n",
       "      <td>@黄栌记忆 ：请阅读潘一恒孩子的画，伤痕呵！ // @洁平 : [泪] 香港东方日报：殉职的...</td>\n",
       "    </tr>\n",
       "    <tr>\n",
       "      <th>99015</th>\n",
       "      <td>0</td>\n",
       "      <td>我最爱的Hachi！ //@冷笑话精选:哭的最惨的电影 没有之一！！[抓狂]</td>\n",
       "    </tr>\n",
       "    <tr>\n",
       "      <th>5287</th>\n",
       "      <td>1</td>\n",
       "      <td>此刻江岭的人与油菜花一样多！ //@山高路远林密:乡村美[赞]//@婺源文风:早安，永忠友[...</td>\n",
       "    </tr>\n",
       "    <tr>\n",
       "      <th>38166</th>\n",
       "      <td>1</td>\n",
       "      <td>在某使馆排了两小时队，把我给冻的，腰都站疼了，[晕][抓狂]还好没白排这么长时间。接下来再计...</td>\n",
       "    </tr>\n",
       "    <tr>\n",
       "      <th>33811</th>\n",
       "      <td>1</td>\n",
       "      <td>昨天忙了一天，没来得及发微博。可是活动很多。开心又略感伤感的莫过于和好朋友--新华社驻泰记者...</td>\n",
       "    </tr>\n",
       "    <tr>\n",
       "      <th>38137</th>\n",
       "      <td>1</td>\n",
       "      <td>@耿长军-小黑 知道你怕拍照，?是昨晚聊天的?候我把手?放在桌面上偷拍的[哈哈]</td>\n",
       "    </tr>\n",
       "    <tr>\n",
       "      <th>114736</th>\n",
       "      <td>0</td>\n",
       "      <td>回复@幸运兔子__罗征:全TMD男单。跟演健美比赛是的。 //@幸运兔子__罗征:您了要看A...</td>\n",
       "    </tr>\n",
       "    <tr>\n",
       "      <th>32177</th>\n",
       "      <td>1</td>\n",
       "      <td>三个和尚[嘻嘻][嘻嘻][嘻嘻][嘻嘻] 我在:http://t.cn/zjjKdnN</td>\n",
       "    </tr>\n",
       "    <tr>\n",
       "      <th>10512</th>\n",
       "      <td>1</td>\n",
       "      <td>#婚庆圣地 蜜月度假#@三亚海棠湾洲际度假酒店 开业之际，携手尔雅凤凰（北京）文化传媒公司推...</td>\n",
       "    </tr>\n",
       "    <tr>\n",
       "      <th>61337</th>\n",
       "      <td>0</td>\n",
       "      <td>#豆果分享#【对抗重度污染！我有清肺美食！】[抓狂]拿什么拯救你，我脆弱的肺！最近很多地区陷...</td>\n",
       "    </tr>\n",
       "    <tr>\n",
       "      <th>77136</th>\n",
       "      <td>0</td>\n",
       "      <td>回复 @程诗然:据说是不可以 //@程诗然:后悔可以当饭吃么[嘻嘻] //@墙根网-蜗牛:没...</td>\n",
       "    </tr>\n",
       "    <tr>\n",
       "      <th>92499</th>\n",
       "      <td>0</td>\n",
       "      <td>#美食#香港同事放假玩，北京同僚还在干！终于下班去吃饭，Igosso却把门关！门口石像冷眼看...</td>\n",
       "    </tr>\n",
       "    <tr>\n",
       "      <th>41208</th>\n",
       "      <td>1</td>\n",
       "      <td>小伙伴们猜一猜，这是在做神马好吃的？[馋嘴]温馨提示：它人见人爱，它易被哄抢，它可以蒸着吃，...</td>\n",
       "    </tr>\n",
       "    <tr>\n",
       "      <th>40965</th>\n",
       "      <td>1</td>\n",
       "      <td>回复@新浪房产电商EJU:哦，唆噶~[耶] //@新浪房产电商EJU:肯定是麦当劳呗~~ /...</td>\n",
       "    </tr>\n",
       "    <tr>\n",
       "      <th>49317</th>\n",
       "      <td>1</td>\n",
       "      <td>参观了香港美心餐饮集团的旗下品牌，真是大开眼界。。还有就是大饱口福了。[哈哈]</td>\n",
       "    </tr>\n",
       "    <tr>\n",
       "      <th>70919</th>\n",
       "      <td>0</td>\n",
       "      <td>[泪]又瘦了，172cm个子才104斤！</td>\n",
       "    </tr>\n",
       "    <tr>\n",
       "      <th>65843</th>\n",
       "      <td>0</td>\n",
       "      <td>帮转！[泪][晕] 闹心的事?</td>\n",
       "    </tr>\n",
       "    <tr>\n",
       "      <th>9960</th>\n",
       "      <td>1</td>\n",
       "      <td>哈哈哈哈 //@duan001:查了下，双鱼[挖鼻屎] //@姓王名山:一物降一物//@素蕾...</td>\n",
       "    </tr>\n",
       "    <tr>\n",
       "      <th>116088</th>\n",
       "      <td>0</td>\n",
       "      <td>[右哼哼][晕]</td>\n",
       "    </tr>\n",
       "    <tr>\n",
       "      <th>72488</th>\n",
       "      <td>0</td>\n",
       "      <td>我对自己的要求很低：活在世上 无非想要明白些道理 遇见些有趣的事。倘能如我愿 我的一生就算没...</td>\n",
       "    </tr>\n",
       "  </tbody>\n",
       "</table>\n",
       "</div>"
      ],
      "text/plain": [
       "        label                                             review\n",
       "69709       0  @黄栌记忆 ：请阅读潘一恒孩子的画，伤痕呵！ // @洁平 : [泪] 香港东方日报：殉职的...\n",
       "99015       0             我最爱的Hachi！ //@冷笑话精选:哭的最惨的电影 没有之一！！[抓狂]\n",
       "5287        1  此刻江岭的人与油菜花一样多！ //@山高路远林密:乡村美[赞]//@婺源文风:早安，永忠友[...\n",
       "38166       1  在某使馆排了两小时队，把我给冻的，腰都站疼了，[晕][抓狂]还好没白排这么长时间。接下来再计...\n",
       "33811       1  昨天忙了一天，没来得及发微博。可是活动很多。开心又略感伤感的莫过于和好朋友--新华社驻泰记者...\n",
       "38137       1           @耿长军-小黑 知道你怕拍照，?是昨晚聊天的?候我把手?放在桌面上偷拍的[哈哈]\n",
       "114736      0  回复@幸运兔子__罗征:全TMD男单。跟演健美比赛是的。 //@幸运兔子__罗征:您了要看A...\n",
       "32177       1        三个和尚[嘻嘻][嘻嘻][嘻嘻][嘻嘻] 我在:http://t.cn/zjjKdnN\n",
       "10512       1  #婚庆圣地 蜜月度假#@三亚海棠湾洲际度假酒店 开业之际，携手尔雅凤凰（北京）文化传媒公司推...\n",
       "61337       0  #豆果分享#【对抗重度污染！我有清肺美食！】[抓狂]拿什么拯救你，我脆弱的肺！最近很多地区陷...\n",
       "77136       0  回复 @程诗然:据说是不可以 //@程诗然:后悔可以当饭吃么[嘻嘻] //@墙根网-蜗牛:没...\n",
       "92499       0  #美食#香港同事放假玩，北京同僚还在干！终于下班去吃饭，Igosso却把门关！门口石像冷眼看...\n",
       "41208       1  小伙伴们猜一猜，这是在做神马好吃的？[馋嘴]温馨提示：它人见人爱，它易被哄抢，它可以蒸着吃，...\n",
       "40965       1  回复@新浪房产电商EJU:哦，唆噶~[耶] //@新浪房产电商EJU:肯定是麦当劳呗~~ /...\n",
       "49317       1            参观了香港美心餐饮集团的旗下品牌，真是大开眼界。。还有就是大饱口福了。[哈哈]\n",
       "70919       0                               [泪]又瘦了，172cm个子才104斤！\n",
       "65843       0                                    帮转！[泪][晕] 闹心的事?\n",
       "9960        1  哈哈哈哈 //@duan001:查了下，双鱼[挖鼻屎] //@姓王名山:一物降一物//@素蕾...\n",
       "116088      0                                           [右哼哼][晕]\n",
       "72488       0  我对自己的要求很低：活在世上 无非想要明白些道理 遇见些有趣的事。倘能如我愿 我的一生就算没..."
      ]
     },
     "execution_count": 2,
     "metadata": {},
     "output_type": "execute_result"
    }
   ],
   "source": [
    "df = pd.read_csv(r'.\\data\\weibo_senti_100k\\weibo_senti_100k.csv')\n",
    "df.sample(20)"
   ]
  },
  {
   "cell_type": "code",
   "execution_count": 3,
   "metadata": {},
   "outputs": [
    {
     "name": "stdout",
     "output_type": "stream",
     "text": [
      "<class 'pandas.core.frame.DataFrame'>\n",
      "RangeIndex: 119988 entries, 0 to 119987\n",
      "Data columns (total 2 columns):\n",
      " #   Column  Non-Null Count   Dtype \n",
      "---  ------  --------------   ----- \n",
      " 0   label   119988 non-null  int64 \n",
      " 1   review  119988 non-null  object\n",
      "dtypes: int64(1), object(1)\n",
      "memory usage: 1.8+ MB\n"
     ]
    }
   ],
   "source": [
    "emotion = {0: \"负向\", 1: \"正向\"}\n",
    "df.info()"
   ]
  },
  {
   "cell_type": "code",
   "execution_count": 4,
   "metadata": {},
   "outputs": [
    {
     "data": {
      "text/plain": [
       "0    59995\n",
       "1    59993\n",
       "Name: label, dtype: int64"
      ]
     },
     "execution_count": 4,
     "metadata": {},
     "output_type": "execute_result"
    }
   ],
   "source": [
    "df.label.value_counts()"
   ]
  },
  {
   "cell_type": "code",
   "execution_count": 5,
   "metadata": {},
   "outputs": [],
   "source": [
    "# 简繁切换\n",
    "df[\"review\"] = df[\"review\"].apply(lambda x: zhconv.convert(str(x), 'zh-cn'))"
   ]
  },
  {
   "cell_type": "code",
   "execution_count": 6,
   "metadata": {},
   "outputs": [
    {
     "data": {
      "text/plain": [
       "['!', '\"', '#', '$', '%', '&', \"'\", '(', ')', '*']"
      ]
     },
     "execution_count": 6,
     "metadata": {},
     "output_type": "execute_result"
    }
   ],
   "source": [
    "# 读取停用词，stopwords.txt 使用 空格 划分每一个词语\n",
    "with open(\"stopwords.txt\", \"r\", encoding=\"utf-8\") as fp:\n",
    "    stop_word = fp.read().split()\n",
    "stop_word[: 10]"
   ]
  },
  {
   "cell_type": "code",
   "execution_count": 7,
   "metadata": {},
   "outputs": [],
   "source": [
    "def jieba_cut_text(text, stop_word, cut_by=\" \"):\n",
    "    # [\\u4E00-\\u9FA5]+ 去除非中文字符\n",
    "    patt = re.compile(\"[\\u4E00-\\u9FA5]+\", re.VERBOSE|re.IGNORECASE)\n",
    "    word_list = []\n",
    "    for t in patt.findall(text):\n",
    "        word_list += [word for word in jieba.cut(t) if word not in stop_word]\n",
    "\n",
    "    return cut_by.join(word_list)"
   ]
  },
  {
   "cell_type": "code",
   "execution_count": 8,
   "metadata": {},
   "outputs": [
    {
     "name": "stderr",
     "output_type": "stream",
     "text": [
      "Building prefix dict from the default dictionary ...\n",
      "Loading model from cache C:\\Users\\11353\\AppData\\Local\\Temp\\jieba.cache\n",
      "Loading model cost 0.613 seconds.\n",
      "Prefix dict has been built successfully.\n"
     ]
    },
    {
     "data": {
      "text/plain": [
       "'鼓掌 慕春彦 一流 经纪 公司 超模 摇篮 鼓掌 姚戈 东方 宾利 强大 名模 军团'"
      ]
     },
     "execution_count": 8,
     "metadata": {},
     "output_type": "execute_result"
    }
   ],
   "source": [
    "jieba_cut_text(df.review[10], stop_word)"
   ]
  },
  {
   "cell_type": "code",
   "execution_count": 9,
   "metadata": {},
   "outputs": [],
   "source": [
    "df[\"review\"] = df[\"review\"].apply(lambda x: jieba_cut_text(x, stop_word))"
   ]
  },
  {
   "cell_type": "code",
   "execution_count": 10,
   "metadata": {},
   "outputs": [
    {
     "data": {
      "text/plain": [
       "60070     中 册 那妈 逼 日 八哥 丫路 中 港乱 日 八哥 丫路 中 勿要 面孔 瘪三 日 八哥 ...\n",
       "5032                              高速 省油 特别 公里 数 诞生 留影 纪念 锐志\n",
       "45499                         知足 李咏 接地 气儿 撮 人儿 法图麦 妈妈 情况 抓狂\n",
       "95053     摄影 穷 三代 单反 毁 一生 真 说错 年底 借钱 先买 条 皮带 再也 不用 鞋带 紧急...\n",
       "16352     五月 北京 红墙 碧瓦 绿树 成萌 到来 鼓掌 南平 事 体验 时间 月 日至 月 日 任选...\n",
       "47167                                                     花\n",
       "86691                中国 太有钱 孔 宏伟 金佛 中国 国内 牛比 国外 煞笔 俗称 窝里横 怒\n",
       "54816     回复 金属 之心 过奖 过奖 太 开心 太 开心 太 开心 讨嫌 脑有 包 沐元 文玩 金属...\n",
       "104439                         这句 话 摇摇 心酸 摇摇 赔给 夜夜 梦 晚安 亲 衰\n",
       "56552                                         特工 傀儡 梅 姐夫 墨涵\n",
       "25244                       回复 孤 风中 凌乱 塞维利亚 孤 塞尔维亚 塞利 维亚 思考\n",
       "66444           回复 活力 兔 泪 活力 兔 怒 蜡烛 午夜 阳光 奇奇 逝者 安息 蜡烛 蜡烛 蜡烛\n",
       "3864                             抱抱 做做 桦桦 葛芳 时尚 瘦身 身体 生活 更好\n",
       "20104                                                    现场\n",
       "3068      围观 鼓掌 鼓掌 鼓掌 张明健 演员 回复 演员 黄河 握手 握手 演员 黄河 恭喜 明键 ...\n",
       "119334    达人 揪 团 带路 台湾 自由 行 路书 投票 页面 上线 希望 大伙 帮 投票 投 票 爱...\n",
       "37358                              雪 凝 不住 嘻嘻 金吾金 黄 昆山 下雪 嘻嘻\n",
       "103530                                       暑假 结束 游泳池 特多 晕\n",
       "88957     昭元 郭照 原 两个 右边 顶 嘻嘻 李卫 飘过 顶 右边 深蓝 拼 原原 抓狂 昭元 郭照...\n",
       "117303           应景 滴 颜色 一只 爪 两只 爪 三只 爪 女儿 肉 肉 嫩 泪 护手 护手 护手\n",
       "Name: review, dtype: object"
      ]
     },
     "execution_count": 10,
     "metadata": {},
     "output_type": "execute_result"
    }
   ],
   "source": [
    "df[\"review\"].sample(20)"
   ]
  },
  {
   "cell_type": "code",
   "execution_count": 11,
   "metadata": {},
   "outputs": [],
   "source": [
    "df[\"label\"] = df[\"label\"].apply(lambda x: emotion[x])"
   ]
  },
  {
   "cell_type": "code",
   "execution_count": 12,
   "metadata": {},
   "outputs": [
    {
     "data": {
      "text/plain": [
       "负向    59995\n",
       "正向    59993\n",
       "Name: label, dtype: int64"
      ]
     },
     "execution_count": 12,
     "metadata": {},
     "output_type": "execute_result"
    }
   ],
   "source": [
    "df.label.value_counts()"
   ]
  },
  {
   "cell_type": "code",
   "execution_count": 13,
   "metadata": {},
   "outputs": [],
   "source": [
    "df.to_pickle(\"weibo_senti_100k_preprocessing.pkl.bz2\")"
   ]
  }
 ],
 "metadata": {
  "interpreter": {
   "hash": "475b53276e332a8131e9177491a7c9ba9dad8ca60c99b840b9e30f84564d4727"
  },
  "kernelspec": {
   "display_name": "Python 3.8.10 64-bit ('venv': venv)",
   "language": "python",
   "name": "python3"
  },
  "language_info": {
   "codemirror_mode": {
    "name": "ipython",
    "version": 3
   },
   "file_extension": ".py",
   "mimetype": "text/x-python",
   "name": "python",
   "nbconvert_exporter": "python",
   "pygments_lexer": "ipython3",
   "version": "3.8.10"
  },
  "orig_nbformat": 4
 },
 "nbformat": 4,
 "nbformat_minor": 2
}
