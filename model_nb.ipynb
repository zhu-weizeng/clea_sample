{
 "cells": [
  {
   "cell_type": "code",
   "execution_count": 1,
   "metadata": {},
   "outputs": [],
   "source": [
    "%matplotlib inline\n",
    "import pandas as pd\n",
    "import numpy as np\n",
    "import matplotlib.pyplot as plt\n",
    "\n",
    "from sklearn.feature_extraction.text import TfidfTransformer\n",
    "from sklearn.model_selection import train_test_split\n",
    "from sklearn.naive_bayes import MultinomialNB, ComplementNB, BernoulliNB\n",
    "from sklearn.metrics import brier_score_loss as BS\n",
    "from sklearn.preprocessing import LabelEncoder\n",
    "from sklearn.feature_extraction.text import TfidfVectorizer\n",
    "from sklearn.calibration import CalibratedClassifierCV"
   ]
  },
  {
   "cell_type": "markdown",
   "metadata": {},
   "source": [
    "| 字段   | 说明                           |\n",
    "| :----- | :----------------------------- |\n",
    "| label  | 0 喜悦，1 愤怒，2 厌恶，3 低落 |\n",
    "| review | 微博内容                       |"
   ]
  },
  {
   "cell_type": "code",
   "execution_count": 2,
   "metadata": {},
   "outputs": [
    {
     "data": {
      "text/html": [
       "<div>\n",
       "<style scoped>\n",
       "    .dataframe tbody tr th:only-of-type {\n",
       "        vertical-align: middle;\n",
       "    }\n",
       "\n",
       "    .dataframe tbody tr th {\n",
       "        vertical-align: top;\n",
       "    }\n",
       "\n",
       "    .dataframe thead th {\n",
       "        text-align: right;\n",
       "    }\n",
       "</style>\n",
       "<table border=\"1\" class=\"dataframe\">\n",
       "  <thead>\n",
       "    <tr style=\"text-align: right;\">\n",
       "      <th></th>\n",
       "      <th>label</th>\n",
       "      <th>review</th>\n",
       "    </tr>\n",
       "  </thead>\n",
       "  <tbody>\n",
       "    <tr>\n",
       "      <th>261187</th>\n",
       "      <td>厌恶</td>\n",
       "      <td>回复 李健 苏打 绿 便宜 为啥 深圳 票 血贵 事宜 艺人 包 路费 美若天仙 闭月羞花 ...</td>\n",
       "    </tr>\n",
       "    <tr>\n",
       "      <th>360936</th>\n",
       "      <td>低落</td>\n",
       "      <td>希望 亲爱 愿望 德芙 心声 巧克力 想 北京 喜欢 北京 想 看菲姐 演唱会 颗 巧克力 ...</td>\n",
       "    </tr>\n",
       "    <tr>\n",
       "      <th>337569</th>\n",
       "      <td>低落</td>\n",
       "      <td>潮妈 记者 拍 弟弟 拍 想 未来 娱乐圈 工作</td>\n",
       "    </tr>\n",
       "    <tr>\n",
       "      <th>126914</th>\n",
       "      <td>喜悦</td>\n",
       "      <td>神苏 不淡定 逆 天 真的 大神 一晃眼 看成 这逆 几岁 背心 杀</td>\n",
       "    </tr>\n",
       "    <tr>\n",
       "      <th>309353</th>\n",
       "      <td>低落</td>\n",
       "      <td>买 一套 米 攒 一套 米 时间 哭 感谢 分享 肌肤 炎症 肌肤 老化 这是 新品 发布会...</td>\n",
       "    </tr>\n",
       "    <tr>\n",
       "      <th>27679</th>\n",
       "      <td>喜悦</td>\n",
       "      <td>支持 下本 微博 游戏 中秋 月 日 抢 特别 活动 参与 方式 月 日前 评论 本微博 通...</td>\n",
       "    </tr>\n",
       "    <tr>\n",
       "      <th>166893</th>\n",
       "      <td>喜悦</td>\n",
       "      <td>钢炼 日本 动画 超级 神作 剧场版 年 夏 上映 钢炼 爱德华 艾尔 冯斯 兄弟 之间 羁...</td>\n",
       "    </tr>\n",
       "    <tr>\n",
       "      <th>121382</th>\n",
       "      <td>喜悦</td>\n",
       "      <td>这一版 李 乃文 纯洁 天 真的 玻璃 纯洁 天 真的 水流 月 日 月 日 上海 剧院 马...</td>\n",
       "    </tr>\n",
       "    <tr>\n",
       "      <th>38991</th>\n",
       "      <td>喜悦</td>\n",
       "      <td>麻木 无痛 橡皮 梦想 伙伴 雄心壮志</td>\n",
       "    </tr>\n",
       "    <tr>\n",
       "      <th>76795</th>\n",
       "      <td>喜悦</td>\n",
       "      <td>典 油画 现 代 演绎 视频 优酷 视频 在线 观看</td>\n",
       "    </tr>\n",
       "    <tr>\n",
       "      <th>349643</th>\n",
       "      <td>低落</td>\n",
       "      <td>盖 错章</td>\n",
       "    </tr>\n",
       "    <tr>\n",
       "      <th>318402</th>\n",
       "      <td>低落</td>\n",
       "      <td>舟曲 加油 甘肃 舟曲 泥石流 灾害 遇难 愿 逝者 安息 生 坚强 第一线 救援 人员 致敬</td>\n",
       "    </tr>\n",
       "    <tr>\n",
       "      <th>118409</th>\n",
       "      <td>喜悦</td>\n",
       "      <td>全民 揭发 年 月 日 开通 微博 年 月 日 显示 微博 篇 关注 粉丝 二百多天 微博 ...</td>\n",
       "    </tr>\n",
       "    <tr>\n",
       "      <th>140173</th>\n",
       "      <td>喜悦</td>\n",
       "      <td>说 红 业内人士 眼光 敏锐 天凉 围上 围脖 暖和 明天 张杰 新专辑 主打 歌 爱 首发...</td>\n",
       "    </tr>\n",
       "    <tr>\n",
       "      <th>191465</th>\n",
       "      <td>喜悦</td>\n",
       "      <td>柔顺 头发 晚上 头发 染色 难看 坏掉 头发 颜色 终于 视线 中</td>\n",
       "    </tr>\n",
       "    <tr>\n",
       "      <th>176878</th>\n",
       "      <td>喜悦</td>\n",
       "      <td>喜欢 郁可 唯 我要</td>\n",
       "    </tr>\n",
       "    <tr>\n",
       "      <th>23608</th>\n",
       "      <td>喜悦</td>\n",
       "      <td>刘某 某市 喜欢 打扑克 一位 卜克 夏琪 话音刚落 先是 死 寂静 全班 集体 潮吹笑 翻</td>\n",
       "    </tr>\n",
       "    <tr>\n",
       "      <th>264378</th>\n",
       "      <td>厌恶</td>\n",
       "      <td>中国 笔画 最多 字 达 画</td>\n",
       "    </tr>\n",
       "    <tr>\n",
       "      <th>270053</th>\n",
       "      <td>厌恶</td>\n",
       "      <td>节 哀</td>\n",
       "    </tr>\n",
       "    <tr>\n",
       "      <th>312708</th>\n",
       "      <td>低落</td>\n",
       "      <td>萨摩 君 垂涎欲滴 眼神 秘密 人类 邪恶 动物 坏透</td>\n",
       "    </tr>\n",
       "  </tbody>\n",
       "</table>\n",
       "</div>"
      ],
      "text/plain": [
       "       label                                             review\n",
       "261187    厌恶  回复 李健 苏打 绿 便宜 为啥 深圳 票 血贵 事宜 艺人 包 路费 美若天仙 闭月羞花 ...\n",
       "360936    低落  希望 亲爱 愿望 德芙 心声 巧克力 想 北京 喜欢 北京 想 看菲姐 演唱会 颗 巧克力 ...\n",
       "337569    低落                           潮妈 记者 拍 弟弟 拍 想 未来 娱乐圈 工作\n",
       "126914    喜悦                 神苏 不淡定 逆 天 真的 大神 一晃眼 看成 这逆 几岁 背心 杀\n",
       "309353    低落  买 一套 米 攒 一套 米 时间 哭 感谢 分享 肌肤 炎症 肌肤 老化 这是 新品 发布会...\n",
       "27679     喜悦  支持 下本 微博 游戏 中秋 月 日 抢 特别 活动 参与 方式 月 日前 评论 本微博 通...\n",
       "166893    喜悦  钢炼 日本 动画 超级 神作 剧场版 年 夏 上映 钢炼 爱德华 艾尔 冯斯 兄弟 之间 羁...\n",
       "121382    喜悦  这一版 李 乃文 纯洁 天 真的 玻璃 纯洁 天 真的 水流 月 日 月 日 上海 剧院 马...\n",
       "38991     喜悦                                麻木 无痛 橡皮 梦想 伙伴 雄心壮志\n",
       "76795     喜悦                         典 油画 现 代 演绎 视频 优酷 视频 在线 观看\n",
       "349643    低落                                               盖 错章\n",
       "318402    低落    舟曲 加油 甘肃 舟曲 泥石流 灾害 遇难 愿 逝者 安息 生 坚强 第一线 救援 人员 致敬\n",
       "118409    喜悦  全民 揭发 年 月 日 开通 微博 年 月 日 显示 微博 篇 关注 粉丝 二百多天 微博 ...\n",
       "140173    喜悦  说 红 业内人士 眼光 敏锐 天凉 围上 围脖 暖和 明天 张杰 新专辑 主打 歌 爱 首发...\n",
       "191465    喜悦                 柔顺 头发 晚上 头发 染色 难看 坏掉 头发 颜色 终于 视线 中\n",
       "176878    喜悦                                         喜欢 郁可 唯 我要\n",
       "23608     喜悦     刘某 某市 喜欢 打扑克 一位 卜克 夏琪 话音刚落 先是 死 寂静 全班 集体 潮吹笑 翻\n",
       "264378    厌恶                                     中国 笔画 最多 字 达 画\n",
       "270053    厌恶                                                节 哀\n",
       "312708    低落                        萨摩 君 垂涎欲滴 眼神 秘密 人类 邪恶 动物 坏透"
      ]
     },
     "execution_count": 2,
     "metadata": {},
     "output_type": "execute_result"
    }
   ],
   "source": [
    "data = pd.read_pickle(\"simplifyweibo_4_moods_preprocessing.pkl.bz2\")\n",
    "\n",
    "data.sample(20)"
   ]
  },
  {
   "cell_type": "code",
   "execution_count": 3,
   "metadata": {},
   "outputs": [
    {
     "name": "stdout",
     "output_type": "stream",
     "text": [
      "<class 'pandas.core.frame.DataFrame'>\n",
      "RangeIndex: 361744 entries, 0 to 361743\n",
      "Data columns (total 2 columns):\n",
      " #   Column  Non-Null Count   Dtype \n",
      "---  ------  --------------   ----- \n",
      " 0   label   361744 non-null  object\n",
      " 1   review  361744 non-null  object\n",
      "dtypes: object(2)\n",
      "memory usage: 5.5+ MB\n"
     ]
    }
   ],
   "source": [
    "data.info()"
   ]
  },
  {
   "cell_type": "code",
   "execution_count": 4,
   "metadata": {},
   "outputs": [
    {
     "data": {
      "text/plain": [
       "喜悦    199496\n",
       "厌恶     55267\n",
       "低落     55267\n",
       "愤怒     51714\n",
       "Name: label, dtype: int64"
      ]
     },
     "execution_count": 4,
     "metadata": {},
     "output_type": "execute_result"
    }
   ],
   "source": [
    "data[\"label\"].value_counts()"
   ]
  },
  {
   "cell_type": "code",
   "execution_count": 5,
   "metadata": {},
   "outputs": [],
   "source": [
    "X, y = data.iloc[:, 1], data.iloc[:, 0]\n",
    "\n",
    "X_train, X_test, Y_train, Y_test = train_test_split(X, y, test_size=0.5, random_state=520)"
   ]
  },
  {
   "cell_type": "code",
   "execution_count": 6,
   "metadata": {},
   "outputs": [
    {
     "data": {
      "text/plain": [
       "(180872,)"
      ]
     },
     "execution_count": 6,
     "metadata": {},
     "output_type": "execute_result"
    }
   ],
   "source": [
    "X_train.shape"
   ]
  },
  {
   "cell_type": "code",
   "execution_count": 7,
   "metadata": {},
   "outputs": [],
   "source": [
    "for i in [X_train, X_test, Y_train, Y_test]:\n",
    "    i.index = range(i.shape[0])"
   ]
  },
  {
   "cell_type": "code",
   "execution_count": 8,
   "metadata": {},
   "outputs": [],
   "source": [
    "le = LabelEncoder().fit(Y_train)\n",
    "\n",
    "Y_train = le.transform(Y_train)\n",
    "Y_test = le.transform(Y_test)"
   ]
  },
  {
   "cell_type": "code",
   "execution_count": 9,
   "metadata": {},
   "outputs": [
    {
     "data": {
      "text/plain": [
       "array(['低落', '厌恶', '喜悦', '愤怒'], dtype=object)"
      ]
     },
     "execution_count": 9,
     "metadata": {},
     "output_type": "execute_result"
    }
   ],
   "source": [
    "le.classes_"
   ]
  },
  {
   "cell_type": "code",
   "execution_count": 10,
   "metadata": {},
   "outputs": [],
   "source": [
    "tfidf = TfidfVectorizer().fit(X_train)\n",
    "\n",
    "X_train_ = tfidf.transform(X_train)\n",
    "X_test_ = tfidf.transform(X_test)"
   ]
  },
  {
   "cell_type": "code",
   "execution_count": 11,
   "metadata": {},
   "outputs": [],
   "source": [
    "mnb = MultinomialNB().fit(X_train_, Y_train)"
   ]
  },
  {
   "cell_type": "code",
   "execution_count": 12,
   "metadata": {},
   "outputs": [
    {
     "data": {
      "text/plain": [
       "0.5861272059799195"
      ]
     },
     "execution_count": 12,
     "metadata": {},
     "output_type": "execute_result"
    }
   ],
   "source": [
    "mnb.score(X_train_, Y_train)"
   ]
  },
  {
   "cell_type": "code",
   "execution_count": 13,
   "metadata": {},
   "outputs": [
    {
     "data": {
      "text/plain": [
       "0.5675505329735946"
      ]
     },
     "execution_count": 13,
     "metadata": {},
     "output_type": "execute_result"
    }
   ],
   "source": [
    "mnb.score(X_test_, Y_test)"
   ]
  },
  {
   "cell_type": "code",
   "execution_count": 14,
   "metadata": {},
   "outputs": [],
   "source": [
    "cnb = ComplementNB().fit(X_train_, Y_train)"
   ]
  },
  {
   "cell_type": "code",
   "execution_count": 15,
   "metadata": {},
   "outputs": [
    {
     "data": {
      "text/plain": [
       "0.7064719801848821"
      ]
     },
     "execution_count": 15,
     "metadata": {},
     "output_type": "execute_result"
    }
   ],
   "source": [
    "cnb.score(X_train_, Y_train)"
   ]
  },
  {
   "cell_type": "code",
   "execution_count": 16,
   "metadata": {},
   "outputs": [
    {
     "data": {
      "text/plain": [
       "0.5546519085320005"
      ]
     },
     "execution_count": 16,
     "metadata": {},
     "output_type": "execute_result"
    }
   ],
   "source": [
    "cnb.score(X_test_, Y_test)"
   ]
  },
  {
   "cell_type": "code",
   "execution_count": 17,
   "metadata": {},
   "outputs": [
    {
     "name": "stdout",
     "output_type": "stream",
     "text": [
      "Multinomial\n",
      "\tBrier under 低落:0.128\n",
      "\tBrier under 厌恶:0.127\n",
      "\tBrier under 喜悦:0.239\n",
      "\tBrier under 愤怒:0.117\n",
      "\tAverage Brier:0.153\n",
      "\tAccuracy:0.568\n",
      "\n",
      "\n",
      "Complement\n",
      "\tBrier under 低落:0.129\n",
      "\tBrier under 厌恶:0.129\n",
      "\tBrier under 喜悦:0.243\n",
      "\tBrier under 愤怒:0.117\n",
      "\tAverage Brier:0.155\n",
      "\tAccuracy:0.555\n",
      "\n",
      "\n",
      "Bournulli\n",
      "\tBrier under 低落:0.162\n",
      "\tBrier under 厌恶:0.162\n",
      "\tBrier under 喜悦:0.319\n",
      "\tBrier under 愤怒:0.134\n",
      "\tAverage Brier:0.194\n",
      "\tAccuracy:0.562\n",
      "\n",
      "\n"
     ]
    }
   ],
   "source": [
    "name = [\"Multinomial\", \"Complement\", \"Bournulli\"]\n",
    "\n",
    "# 注意高斯朴素贝叶斯不接受稀疏矩阵\n",
    "models = [MultinomialNB(), ComplementNB(), BernoulliNB()]\n",
    "for name, clf in zip(name, models):\n",
    "    clf.fit(X_train_, Y_train)\n",
    "    y_pred = clf.predict(X_test_)\n",
    "    proba = clf.predict_proba(X_test_)\n",
    "    score = clf.score(X_test_, Y_test)\n",
    "    print(name)\n",
    "    \n",
    "    # 4个不同的标签取值下的布里尔分数\n",
    "    Bscore = []\n",
    "    for i in range(len(np.unique(Y_train))):\n",
    "        bs = BS(Y_test == i, proba[:, i], pos_label=1)\n",
    "        Bscore.append(bs)\n",
    "        print(\"\\tBrier under {}:{:.3f}\".format(le.classes_[i],bs))\n",
    "        \n",
    "    print(\"\\tAverage Brier:{:.3f}\".format(np.mean(Bscore)))\n",
    "    print(\"\\tAccuracy:{:.3f}\".format(score))\n",
    "    print(\"\\n\")"
   ]
  },
  {
   "cell_type": "code",
   "execution_count": 18,
   "metadata": {},
   "outputs": [
    {
     "name": "stdout",
     "output_type": "stream",
     "text": [
      "Multinomial\n",
      "\tBrier under 低落:0.128\n",
      "\tBrier under 厌恶:0.127\n",
      "\tBrier under 喜悦:0.239\n",
      "\tBrier under 愤怒:0.117\n",
      "\tAverage Brier:0.153\n",
      "\tAccuracy:0.568\n",
      "\n",
      "\n",
      "Multinomial + Isotonic\n",
      "\tBrier under 低落:0.124\n",
      "\tBrier under 厌恶:0.123\n",
      "\tBrier under 喜悦:0.207\n",
      "\tBrier under 愤怒:0.112\n",
      "\tAverage Brier:0.142\n",
      "\tAccuracy:0.575\n",
      "\n",
      "\n",
      "Multinomial + Sigmoid\n",
      "\tBrier under 低落:0.125\n",
      "\tBrier under 厌恶:0.124\n",
      "\tBrier under 喜悦:0.210\n",
      "\tBrier under 愤怒:0.113\n",
      "\tAverage Brier:0.143\n",
      "\tAccuracy:0.575\n",
      "\n",
      "\n",
      "Complement\n",
      "\tBrier under 低落:0.129\n",
      "\tBrier under 厌恶:0.129\n",
      "\tBrier under 喜悦:0.243\n",
      "\tBrier under 愤怒:0.117\n",
      "\tAverage Brier:0.155\n",
      "\tAccuracy:0.555\n",
      "\n",
      "\n",
      "Complement + Isotonic\n",
      "\tBrier under 低落:0.123\n",
      "\tBrier under 厌恶:0.122\n",
      "\tBrier under 喜悦:0.197\n",
      "\tBrier under 愤怒:0.110\n",
      "\tAverage Brier:0.138\n",
      "\tAccuracy:0.579\n",
      "\n",
      "\n",
      "Complement + Sigmoid\n",
      "\tBrier under 低落:0.125\n",
      "\tBrier under 厌恶:0.124\n",
      "\tBrier under 喜悦:0.198\n",
      "\tBrier under 愤怒:0.110\n",
      "\tAverage Brier:0.139\n",
      "\tAccuracy:0.578\n",
      "\n",
      "\n",
      "Bernoulli\n",
      "\tBrier under 低落:0.162\n",
      "\tBrier under 厌恶:0.162\n",
      "\tBrier under 喜悦:0.319\n",
      "\tBrier under 愤怒:0.134\n",
      "\tAverage Brier:0.194\n",
      "\tAccuracy:0.562\n",
      "\n",
      "\n",
      "Bernoulli + Isotonic\n",
      "\tBrier under 低落:0.123\n",
      "\tBrier under 厌恶:0.123\n",
      "\tBrier under 喜悦:0.205\n",
      "\tBrier under 愤怒:0.113\n",
      "\tAverage Brier:0.141\n",
      "\tAccuracy:0.568\n",
      "\n",
      "\n",
      "Bernoulli + Sigmoid\n",
      "\tBrier under 低落:0.127\n",
      "\tBrier under 厌恶:0.127\n",
      "\tBrier under 喜悦:0.228\n",
      "\tBrier under 愤怒:0.117\n",
      "\tAverage Brier:0.150\n",
      "\tAccuracy:0.562\n",
      "\n",
      "\n"
     ]
    }
   ],
   "source": [
    "name = [\"Multinomial\"\n",
    "       ,\"Multinomial + Isotonic\"\n",
    "       ,\"Multinomial + Sigmoid\"\n",
    "       ,\"Complement\"\n",
    "       ,\"Complement + Isotonic\"\n",
    "       ,\"Complement + Sigmoid\"\n",
    "       ,\"Bernoulli\"\n",
    "       ,\"Bernoulli + Isotonic\"\n",
    "       ,\"Bernoulli + Sigmoid\"]\n",
    "\n",
    "models = [MultinomialNB()\n",
    "         ,CalibratedClassifierCV(MultinomialNB(), cv=5, method='isotonic')\n",
    "         ,CalibratedClassifierCV(MultinomialNB(), cv=5, method='sigmoid')\n",
    "         ,ComplementNB()\n",
    "         ,CalibratedClassifierCV(ComplementNB(), cv=5, method='isotonic')\n",
    "         ,CalibratedClassifierCV(ComplementNB(), cv=5, method='sigmoid')\n",
    "         ,BernoulliNB()\n",
    "         ,CalibratedClassifierCV(BernoulliNB(), cv=5, method='isotonic')\n",
    "         ,CalibratedClassifierCV(BernoulliNB(), cv=5, method='sigmoid')\n",
    "         ]\n",
    "\n",
    "for name, clf in zip(name, models):\n",
    "    clf.fit(X_train_, Y_train)\n",
    "    y_pred = clf.predict(X_test_)\n",
    "    proba = clf.predict_proba(X_test_)\n",
    "    score = clf.score(X_test_, Y_test)\n",
    "    print(name)\n",
    "    \n",
    "    # 4个不同的标签取值下的布里尔分数\n",
    "    Bscore = []\n",
    "    for i in range(len(np.unique(Y_train))):\n",
    "        bs = BS(Y_test == i, proba[:, i], pos_label=1)\n",
    "        Bscore.append(bs)\n",
    "        print(\"\\tBrier under {}:{:.3f}\".format(le.classes_[i],bs))\n",
    "        \n",
    "    print(\"\\tAverage Brier:{:.3f}\".format(np.mean(Bscore)))\n",
    "    print(\"\\tAccuracy:{:.3f}\".format(score))\n",
    "    print(\"\\n\")"
   ]
  },
  {
   "cell_type": "code",
   "execution_count": 19,
   "metadata": {},
   "outputs": [
    {
     "name": "stdout",
     "output_type": "stream",
     "text": [
      "Complement + Isotonic\n",
      "0.1\n",
      "\tBrier under 低落:0.123\n",
      "\tBrier under 厌恶:0.123\n",
      "\tBrier under 喜悦:0.191\n",
      "\tBrier under 愤怒:0.110\n",
      "\tAverage Brier:0.137\n",
      "\tAccuracy:0.579\n",
      "\n",
      "\n",
      "0.2\n",
      "\tBrier under 低落:0.123\n",
      "\tBrier under 厌恶:0.123\n",
      "\tBrier under 喜悦:0.191\n",
      "\tBrier under 愤怒:0.109\n",
      "\tAverage Brier:0.136\n",
      "\tAccuracy:0.580\n",
      "\n",
      "\n",
      "0.30000000000000004\n",
      "\tBrier under 低落:0.123\n",
      "\tBrier under 厌恶:0.122\n",
      "\tBrier under 喜悦:0.191\n",
      "\tBrier under 愤怒:0.109\n",
      "\tAverage Brier:0.136\n",
      "\tAccuracy:0.581\n",
      "\n",
      "\n",
      "0.4\n",
      "\tBrier under 低落:0.123\n",
      "\tBrier under 厌恶:0.122\n",
      "\tBrier under 喜悦:0.192\n",
      "\tBrier under 愤怒:0.109\n",
      "\tAverage Brier:0.136\n",
      "\tAccuracy:0.581\n",
      "\n",
      "\n",
      "0.5\n",
      "\tBrier under 低落:0.122\n",
      "\tBrier under 厌恶:0.122\n",
      "\tBrier under 喜悦:0.192\n",
      "\tBrier under 愤怒:0.109\n",
      "\tAverage Brier:0.137\n",
      "\tAccuracy:0.581\n",
      "\n",
      "\n",
      "0.6\n",
      "\tBrier under 低落:0.122\n",
      "\tBrier under 厌恶:0.122\n",
      "\tBrier under 喜悦:0.193\n",
      "\tBrier under 愤怒:0.109\n",
      "\tAverage Brier:0.137\n",
      "\tAccuracy:0.581\n",
      "\n",
      "\n",
      "0.7000000000000001\n",
      "\tBrier under 低落:0.122\n",
      "\tBrier under 厌恶:0.122\n",
      "\tBrier under 喜悦:0.194\n",
      "\tBrier under 愤怒:0.109\n",
      "\tAverage Brier:0.137\n",
      "\tAccuracy:0.580\n",
      "\n",
      "\n",
      "0.8\n",
      "\tBrier under 低落:0.123\n",
      "\tBrier under 厌恶:0.122\n",
      "\tBrier under 喜悦:0.195\n",
      "\tBrier under 愤怒:0.109\n",
      "\tAverage Brier:0.137\n",
      "\tAccuracy:0.579\n",
      "\n",
      "\n",
      "0.9\n",
      "\tBrier under 低落:0.123\n",
      "\tBrier under 厌恶:0.122\n",
      "\tBrier under 喜悦:0.196\n",
      "\tBrier under 愤怒:0.110\n",
      "\tAverage Brier:0.138\n",
      "\tAccuracy:0.579\n",
      "\n",
      "\n",
      "1.0\n",
      "\tBrier under 低落:0.123\n",
      "\tBrier under 厌恶:0.122\n",
      "\tBrier under 喜悦:0.197\n",
      "\tBrier under 愤怒:0.110\n",
      "\tAverage Brier:0.138\n",
      "\tAccuracy:0.579\n",
      "\n",
      "\n"
     ]
    }
   ],
   "source": [
    "alpha_list = np.linspace(0.1, 1, 10)\n",
    "print(\"Complement + Isotonic\")\n",
    "\n",
    "for alpha in alpha_list:\n",
    "    clf = CalibratedClassifierCV(ComplementNB(alpha=alpha), cv=5, method='isotonic')\n",
    "    clf.fit(X_train_, Y_train)\n",
    "    y_pred = clf.predict(X_test_)\n",
    "    proba = clf.predict_proba(X_test_)\n",
    "    score = clf.score(X_test_, Y_test)\n",
    "    \n",
    "    # 4个不同的标签取值下的布里尔分数\n",
    "    print(alpha)\n",
    "    Bscore = []\n",
    "    for i in range(len(np.unique(Y_train))):\n",
    "        bs = BS(Y_test == i, proba[:, i], pos_label=1)\n",
    "        Bscore.append(bs)\n",
    "        print(\"\\tBrier under {}:{:.3f}\".format(le.classes_[i],bs))\n",
    "        \n",
    "    print(\"\\tAverage Brier:{:.3f}\".format(np.mean(Bscore)))\n",
    "    print(\"\\tAccuracy:{:.3f}\".format(score))\n",
    "    print(\"\\n\")"
   ]
  },
  {
   "cell_type": "code",
   "execution_count": 20,
   "metadata": {},
   "outputs": [
    {
     "name": "stderr",
     "output_type": "stream",
     "text": [
      "f:\\MyProject\\practice\\clea_sample\\venv\\lib\\site-packages\\sklearn\\linear_model\\_logistic.py:814: ConvergenceWarning: lbfgs failed to converge (status=1):\n",
      "STOP: TOTAL NO. of ITERATIONS REACHED LIMIT.\n",
      "\n",
      "Increase the number of iterations (max_iter) or scale the data as shown in:\n",
      "    https://scikit-learn.org/stable/modules/preprocessing.html\n",
      "Please also refer to the documentation for alternative solver options:\n",
      "    https://scikit-learn.org/stable/modules/linear_model.html#logistic-regression\n",
      "  n_iter_i = _check_optimize_result(\n"
     ]
    }
   ],
   "source": [
    "from sklearn.linear_model import LogisticRegression\n",
    "logi = LogisticRegression(max_iter=100).fit(X_train_, Y_train)"
   ]
  },
  {
   "cell_type": "code",
   "execution_count": 21,
   "metadata": {},
   "outputs": [
    {
     "data": {
      "text/plain": [
       "0.6550765182007166"
      ]
     },
     "execution_count": 21,
     "metadata": {},
     "output_type": "execute_result"
    }
   ],
   "source": [
    "logi.score(X_train_, Y_train)"
   ]
  },
  {
   "cell_type": "code",
   "execution_count": 22,
   "metadata": {},
   "outputs": [
    {
     "data": {
      "text/plain": [
       "0.5811347251094697"
      ]
     },
     "execution_count": 22,
     "metadata": {},
     "output_type": "execute_result"
    }
   ],
   "source": [
    "logi.score(X_test_, Y_test)"
   ]
  },
  {
   "cell_type": "code",
   "execution_count": null,
   "metadata": {},
   "outputs": [],
   "source": []
  }
 ],
 "metadata": {
  "interpreter": {
   "hash": "475b53276e332a8131e9177491a7c9ba9dad8ca60c99b840b9e30f84564d4727"
  },
  "kernelspec": {
   "display_name": "Python 3.8.10 64-bit ('venv': venv)",
   "language": "python",
   "name": "python3"
  },
  "language_info": {
   "codemirror_mode": {
    "name": "ipython",
    "version": 3
   },
   "file_extension": ".py",
   "mimetype": "text/x-python",
   "name": "python",
   "nbconvert_exporter": "python",
   "pygments_lexer": "ipython3",
   "version": "3.8.10"
  },
  "orig_nbformat": 4
 },
 "nbformat": 4,
 "nbformat_minor": 2
}
